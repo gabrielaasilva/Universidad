{
 "cells": [
  {
   "cell_type": "markdown",
   "metadata": {},
   "source": [
    "# Elementos de álgebra lineal en la computación cuántica"
   ]
  },
  {
   "cell_type": "code",
   "execution_count": 13,
   "metadata": {},
   "outputs": [],
   "source": [
    "import numpy as np"
   ]
  },
  {
   "cell_type": "markdown",
   "metadata": {},
   "source": [
    "## 1.  Vectores de componentes complejas"
   ]
  },
  {
   "cell_type": "code",
   "execution_count": 14,
   "metadata": {},
   "outputs": [
    {
     "name": "stdout",
     "output_type": "stream",
     "text": [
      "[[ 2.-3.j]\n",
      " [-7.+5.j]]\n"
     ]
    }
   ],
   "source": [
    "vector = np.array([[2-3j],[-7+5j]]) ##Declarando un vector\n",
    "print(vector)"
   ]
  },
  {
   "cell_type": "code",
   "execution_count": 15,
   "metadata": {},
   "outputs": [
    {
     "data": {
      "text/plain": [
       "(-7+5j)"
      ]
     },
     "execution_count": 15,
     "metadata": {},
     "output_type": "execute_result"
    }
   ],
   "source": [
    "vector[1][0] ##Accediendo a una componente partícular"
   ]
  },
  {
   "cell_type": "code",
   "execution_count": 16,
   "metadata": {},
   "outputs": [],
   "source": [
    "vector_2 = np.array([[-4+6j],[1-14j]])"
   ]
  },
  {
   "cell_type": "code",
   "execution_count": 17,
   "metadata": {},
   "outputs": [
    {
     "name": "stdout",
     "output_type": "stream",
     "text": [
      "[[-2.+3.j]\n",
      " [-6.-9.j]]\n"
     ]
    }
   ],
   "source": [
    "##Suma entre vectores (operación directa)\n",
    "suma_vectores = vector + vector_2 \n",
    "print (suma_vectores)"
   ]
  },
  {
   "cell_type": "code",
   "execution_count": 18,
   "metadata": {},
   "outputs": [
    {
     "name": "stdout",
     "output_type": "stream",
     "text": [
      "[[ 13. +0.j]\n",
      " [-15.+36.j]]\n"
     ]
    }
   ],
   "source": [
    "## Multiplicar un escalar(complejo) por un vector\n",
    "vector_3 = (-2 -3j) * suma_vectores\n",
    "print(vector_3)"
   ]
  },
  {
   "cell_type": "markdown",
   "metadata": {},
   "source": [
    "## 2. Matrices\n",
    "Vamos a escribir la matriz correspondiente a la compuerta $U_2$:\n",
    "\n",
    "$$U_2(\\phi, \\lambda) =\\frac{1}{\\sqrt{2}} \\begin{bmatrix} 1 &-e^{i \\lambda} \\\\ e^{i \\phi} & e^{i \\lambda + i phi}  \\end{bmatrix}$$\n",
    "\n",
    "Declaramos la matriz $A(\\pi, \\pi/2)$ :"
   ]
  },
  {
   "cell_type": "code",
   "execution_count": 19,
   "metadata": {},
   "outputs": [],
   "source": [
    "matriz_u2 = (1/np.sqrt(2)) * np.array([ [1                               , -np.exp(1j * np.pi/2)],\n",
    "\n",
    "                       [np.cos(np.pi) + 1j*np.sin(np.pi), np.exp(1j * np.pi/2 + 1j * np.pi)] ])"
   ]
  },
  {
   "cell_type": "code",
   "execution_count": 20,
   "metadata": {},
   "outputs": [
    {
     "name": "stdout",
     "output_type": "stream",
     "text": [
      "[[ 1.0000000e+00+0.0000000e+00j -6.1232340e-17-1.0000000e+00j]\n",
      " [-1.0000000e+00+1.2246468e-16j -1.8369702e-16-1.0000000e+00j]]\n"
     ]
    }
   ],
   "source": [
    "## Declaramos la matriz A. (Matriz U2 sin el escalar)\n",
    "matriz_1 = np.array([[1,-np.exp(1j*np.pi/2)],[np.cos(np.pi)+1j*np.sin(np.pi) , np.exp(1j * np.pi/2 + 1j * np.pi)]])\n",
    "print (matriz_1)"
   ]
  },
  {
   "cell_type": "markdown",
   "metadata": {},
   "source": [
    "$$A = \\begin{bmatrix} 1 & -i \\\\ -1 & -i \\end{bmatrix}$$"
   ]
  },
  {
   "cell_type": "markdown",
   "metadata": {},
   "source": [
    "La matriz para la compuerta para la compuerta X es:\n",
    "\n",
    "$$ X = \\begin{bmatrix} 0 & 1 \\\\ 1 & 0 \\end{bmatrix}$$"
   ]
  },
  {
   "cell_type": "code",
   "execution_count": 21,
   "metadata": {},
   "outputs": [
    {
     "name": "stdout",
     "output_type": "stream",
     "text": [
      "[[ 1.0000000e+00+0.0000000e+00j  1.0000000e+00-1.0000000e+00j]\n",
      " [ 0.0000000e+00+1.2246468e-16j -1.8369702e-16-1.0000000e+00j]]\n"
     ]
    }
   ],
   "source": [
    "matriz_x = np.array([[0,1],[1,0]])\n",
    "suma = matriz_1 + matriz_x\n",
    "print (suma)"
   ]
  },
  {
   "cell_type": "markdown",
   "metadata": {},
   "source": [
    "$$ A + X = \\begin{bmatrix} 1 & 1-i \\\\ 0 & -i \\end{bmatrix}$$"
   ]
  },
  {
   "cell_type": "markdown",
   "metadata": {},
   "source": [
    "## 3. Conjugada, transpuesta y daga"
   ]
  },
  {
   "cell_type": "code",
   "execution_count": 22,
   "metadata": {},
   "outputs": [
    {
     "name": "stdout",
     "output_type": "stream",
     "text": [
      "[[ 2.+3.j]\n",
      " [-7.-5.j]]\n"
     ]
    }
   ],
   "source": [
    "##Conjugado\n",
    "Vector1_conjugado = np.conj(vector)\n",
    "print(Vector1_conjugado)"
   ]
  },
  {
   "cell_type": "code",
   "execution_count": 23,
   "metadata": {},
   "outputs": [
    {
     "name": "stdout",
     "output_type": "stream",
     "text": [
      "[[ 2.-3.j -7.+5.j]]\n"
     ]
    }
   ],
   "source": [
    "##Transpuesta\n",
    "Vector1_transpuesto = np.transpose(vector)\n",
    "print(Vector1_transpuesto)"
   ]
  },
  {
   "cell_type": "code",
   "execution_count": 24,
   "metadata": {},
   "outputs": [],
   "source": [
    "##Daga\n",
    "def daga(arreglo):\n",
    "    '''\n",
    "    La función daga recibe un arreglo de numpy (vector o matriz)\n",
    "    y retorna su transpuesta conjugada odaga.\n",
    "    '''\n",
    "    \n",
    "    arreglo_conjugado = np.conj(arreglo)\n",
    "    arreglo_conj_transp = np.transpose(arreglo_conjugado)\n",
    "    \n",
    "    return arreglo_conj_transp "
   ]
  },
  {
   "cell_type": "code",
   "execution_count": 25,
   "metadata": {},
   "outputs": [
    {
     "name": "stdout",
     "output_type": "stream",
     "text": [
      "[[ 1.0000000e+00-0.0000000e+00j  0.0000000e+00-1.2246468e-16j]\n",
      " [ 1.0000000e+00+1.0000000e+00j -1.8369702e-16+1.0000000e+00j]]\n"
     ]
    }
   ],
   "source": [
    "print(daga(suma))"
   ]
  },
  {
   "cell_type": "markdown",
   "metadata": {},
   "source": [
    "$$Suma^{\\dagger} = \\begin{bmatrix} 1 & 0 \\\\ 1 + i & - i\\end{bmatrix}$$"
   ]
  },
  {
   "cell_type": "markdown",
   "metadata": {},
   "source": [
    "## Multiplicación de matrices por matrices y matrices por vectores (acción)\n",
    "\n",
    "Vammor a multiplicar $U_2(\\pi,\\pi/2) \\star X$"
   ]
  },
  {
   "cell_type": "code",
   "execution_count": 26,
   "metadata": {},
   "outputs": [
    {
     "name": "stdout",
     "output_type": "stream",
     "text": [
      "[[-4.32978028e-17-7.07106781e-01j  7.07106781e-01+0.00000000e+00j]\n",
      " [-1.29893408e-16-7.07106781e-01j -7.07106781e-01+8.65956056e-17j]]\n"
     ]
    }
   ],
   "source": [
    "#Matriz por matriz\n",
    "producto_u2_con_x = np.matmul(matriz_u2, matriz_x)\n",
    "print(producto_u2_con_x)"
   ]
  },
  {
   "cell_type": "markdown",
   "metadata": {},
   "source": [
    "$$U_2(\\pi,\\pi/2) \\star X = \\begin{bmatrix} -1/\\sqrt{2}i& 1/\\sqrt{2} \\\\ -1/\\sqrt{2}i &-1/\\sqrt{2}\\end{bmatrix} $$\n",
    "\n",
    "$$U_2(\\pi,\\pi/2) \\star X =\\frac{1}{\\sqrt{2}} \\begin{bmatrix} -i& 1 \\\\ -i &-1\\end{bmatrix} $$"
   ]
  },
  {
   "cell_type": "code",
   "execution_count": 27,
   "metadata": {},
   "outputs": [],
   "source": [
    "ket_0 = np.array([[1],[0]])"
   ]
  },
  {
   "cell_type": "code",
   "execution_count": 28,
   "metadata": {},
   "outputs": [
    {
     "name": "stdout",
     "output_type": "stream",
     "text": [
      "[[-4.32978028e-17-0.70710678j]\n",
      " [-1.29893408e-16-0.70710678j]]\n"
     ]
    }
   ],
   "source": [
    "#Matriz por vecotr\n",
    "accion_de_prod_sobre_ket0 = np.matmul(producto_u2_con_x,ket_0)\n",
    "print(accion_de_prod_sobre_ket0)"
   ]
  },
  {
   "cell_type": "code",
   "execution_count": 29,
   "metadata": {},
   "outputs": [
    {
     "name": "stdout",
     "output_type": "stream",
     "text": [
      "16\n"
     ]
    }
   ],
   "source": [
    "##Multiplicación quiz\n",
    "matriz_a = np.array([[1,1],[1,0]])\n",
    "matriz_b = np.array([[1,0],[0,1]])\n",
    "\n",
    "k = 0\n",
    "while matriz_b[0][0] <= 1000:\n",
    "    matriz_b = np.matmul(matriz_b,matriz_a)\n",
    "    k = k+1\n",
    "\n",
    "print(k)"
   ]
  },
  {
   "cell_type": "markdown",
   "metadata": {},
   "source": [
    "## Normalizar un vector"
   ]
  },
  {
   "cell_type": "code",
   "execution_count": 30,
   "metadata": {},
   "outputs": [
    {
     "name": "stdout",
     "output_type": "stream",
     "text": [
      "[[ 2.-3.j]\n",
      " [-7.+5.j]]\n"
     ]
    }
   ],
   "source": [
    "print(vector)"
   ]
  },
  {
   "cell_type": "code",
   "execution_count": 31,
   "metadata": {},
   "outputs": [
    {
     "name": "stdout",
     "output_type": "stream",
     "text": [
      "5.830951894845301\n"
     ]
    }
   ],
   "source": [
    "#Modulo de un vector\n",
    "c = 5- 3j\n",
    "modulo_c = np.abs(c)\n",
    "print(modulo_c)"
   ]
  },
  {
   "cell_type": "code",
   "execution_count": 32,
   "metadata": {},
   "outputs": [
    {
     "name": "stdout",
     "output_type": "stream",
     "text": [
      "9.327379053088816\n"
     ]
    }
   ],
   "source": [
    "#Norma de un vector\n",
    "norma_vector1 = np. linalg.norm(vector)\n",
    "print(norma_vector1)"
   ]
  },
  {
   "cell_type": "code",
   "execution_count": 33,
   "metadata": {},
   "outputs": [
    {
     "name": "stdout",
     "output_type": "stream",
     "text": [
      "[[ 0.21442251-0.32163376j]\n",
      " [-0.75047877+0.53605627j]]\n"
     ]
    }
   ],
   "source": [
    "#Narmalizar un vector\n",
    "Vector1_normalizado = (1/norma_vector1)*vector\n",
    "print(Vector1_normalizado)"
   ]
  },
  {
   "cell_type": "code",
   "execution_count": 34,
   "metadata": {},
   "outputs": [
    {
     "name": "stdout",
     "output_type": "stream",
     "text": [
      "14.94252873563218 %\n"
     ]
    }
   ],
   "source": [
    "#Probabiliddad de medir el estao 0:\n",
    "alpha = Vector1_normalizado[0][0]\n",
    "prob_0 = np.abs(alpha)**2\n",
    "print(prob_0*100,\"%\")"
   ]
  },
  {
   "cell_type": "code",
   "execution_count": 35,
   "metadata": {},
   "outputs": [
    {
     "name": "stdout",
     "output_type": "stream",
     "text": [
      "85.05747126436782 %\n"
     ]
    }
   ],
   "source": [
    "#Probabiliddad de medir el estao 1:\n",
    "beta = Vector1_normalizado[1][0]\n",
    "prob_1 = np.abs(beta)**2\n",
    "print(prob_1*100,\"%\")"
   ]
  },
  {
   "cell_type": "markdown",
   "metadata": {},
   "source": [
    "Comprobación:  $|\\alpha|^2 + |\\beta|^2 = 1 $"
   ]
  },
  {
   "cell_type": "markdown",
   "metadata": {},
   "source": [
    "## Producto interno y normal"
   ]
  },
  {
   "cell_type": "code",
   "execution_count": 36,
   "metadata": {},
   "outputs": [
    {
     "name": "stdout",
     "output_type": "stream",
     "text": [
      "1.0\n"
     ]
    }
   ],
   "source": [
    "#Comprobacion\n",
    "print(prob_0+prob_1)"
   ]
  },
  {
   "cell_type": "code",
   "execution_count": 37,
   "metadata": {},
   "outputs": [],
   "source": [
    "def prod_interno(v1,v2):\n",
    "    '''\n",
    "    Recibe dos vectores complejos y retorna su producto interno\n",
    "    '''\n",
    "    \n",
    "    return np.matmul(daga(v1),v2)[0][0]"
   ]
  },
  {
   "cell_type": "code",
   "execution_count": 38,
   "metadata": {},
   "outputs": [],
   "source": [
    "def norma_vector(v):\n",
    "    '''\n",
    "    Recibe un vector complejo v y retorne la raiz del producto interno con él mismo\n",
    "    '''\n",
    "    \n",
    "    return np.sqrt(prod_interno(v,v))"
   ]
  },
  {
   "cell_type": "code",
   "execution_count": 39,
   "metadata": {},
   "outputs": [
    {
     "name": "stdout",
     "output_type": "stream",
     "text": [
      "(87+0j)\n"
     ]
    }
   ],
   "source": [
    "prod_interno_vector1_vector1 = prod_interno(vector, vector)\n",
    "print(prod_interno_vector1_vector1)"
   ]
  },
  {
   "cell_type": "code",
   "execution_count": 40,
   "metadata": {},
   "outputs": [
    {
     "name": "stdout",
     "output_type": "stream",
     "text": [
      "(9.327379053088816+0j)\n"
     ]
    }
   ],
   "source": [
    "print(norma_vector(vector))"
   ]
  },
  {
   "cell_type": "code",
   "execution_count": 43,
   "metadata": {},
   "outputs": [
    {
     "name": "stdout",
     "output_type": "stream",
     "text": [
      "(5+7j)\n"
     ]
    }
   ],
   "source": [
    "#Producto interno quiz\n",
    "vector_a = np.array([[1],[1j],[1 - 3j]])\n",
    "vector_b = np.array([[2+1j],[1j],[2]])\n",
    "\n",
    "print(prod_interno(vector_a,vector_b))"
   ]
  },
  {
   "cell_type": "code",
   "execution_count": 61,
   "metadata": {},
   "outputs": [
    {
     "name": "stdout",
     "output_type": "stream",
     "text": [
      "(11.118453129819814+0j)\n"
     ]
    }
   ],
   "source": [
    "#norma vector quiz\n",
    "vector_c = np.array([[4.9+2.4j],[6.9-6.8j]])\n",
    "\n",
    "print(norma_vector(vector_c))"
   ]
  },
  {
   "cell_type": "code",
   "execution_count": 47,
   "metadata": {},
   "outputs": [
    {
     "name": "stdout",
     "output_type": "stream",
     "text": [
      "[[ -4]\n",
      " [  3]\n",
      " [  8]\n",
      " [ -6]\n",
      " [ 20]\n",
      " [-15]]\n"
     ]
    }
   ],
   "source": [
    "#producto tensorial\n",
    "v1 = np.array([[-1],[2],[5]])\n",
    "v2 = np.array([[4],[-3]])\n",
    "\n",
    "print(np.kron(v1,v2))"
   ]
  },
  {
   "cell_type": "code",
   "execution_count": 65,
   "metadata": {},
   "outputs": [
    {
     "name": "stdout",
     "output_type": "stream",
     "text": [
      "0.9999999999999999\n",
      "0.9999999999999999\n",
      "[[0.]\n",
      " [1.]]\n"
     ]
    },
    {
     "data": {
      "text/plain": [
       "0.0"
      ]
     },
     "execution_count": 65,
     "metadata": {},
     "output_type": "execute_result"
    }
   ],
   "source": [
    "#norma\n",
    "vpos = np.array([[1/np.sqrt(2)],[1/np.sqrt(2)]])\n",
    "vneg = np.array([[1/np.sqrt(2)],[-1/np.sqrt(2)]])\n",
    "\n",
    "print(norma_vector(vpos))\n",
    "print(norma_vector(vneg))\n",
    "print((1/np.sqrt(2))*(vpos-vneg))\n",
    "\n",
    "prod_interno(vpos,vneg)\n",
    "\n",
    "##daga(vpos) \n",
    "\n",
    "##np.matmul(vpos,vneg)"
   ]
  },
  {
   "cell_type": "code",
   "execution_count": null,
   "metadata": {},
   "outputs": [],
   "source": []
  }
 ],
 "metadata": {
  "kernelspec": {
   "display_name": "Python 3",
   "language": "python",
   "name": "python3"
  },
  "language_info": {
   "codemirror_mode": {
    "name": "ipython",
    "version": 3
   },
   "file_extension": ".py",
   "mimetype": "text/x-python",
   "name": "python",
   "nbconvert_exporter": "python",
   "pygments_lexer": "ipython3",
   "version": "3.8.3"
  }
 },
 "nbformat": 4,
 "nbformat_minor": 4
}
