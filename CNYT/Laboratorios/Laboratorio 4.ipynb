{
 "cells": [
  {
   "cell_type": "markdown",
   "metadata": {},
   "source": [
    "# CNYT Laboratorio # 4\n",
    "\n",
    "## Oráculos e Implementación del algoritmo de Deutsch/Deutsch-Jozsa\n",
    "Reto de programación\n",
    "\n",
    "**Integrantes:**\n",
    "- Yeison Steven Barreto Rodríguez.\n",
    "- Brayan Catiblanco Bernal.\n",
    "- Luis Alejandro Jaramillo Rincón.\n",
    "- Ana Gabriela Silva Briceño.\n",
    "- Sebastián Villamarín Rodríguez.\n",
    "\n",
    "\n"
   ]
  },
  {
   "cell_type": "code",
   "execution_count": 1,
   "metadata": {},
   "outputs": [],
   "source": [
    "# Importación de librerías. No cambiar\n",
    "\n",
    "from qiskit import QuantumCircuit, Aer, execute"
   ]
  },
  {
   "cell_type": "code",
   "execution_count": 2,
   "metadata": {},
   "outputs": [],
   "source": [
    "# Declaración de oráculos para que realicen sus pruebas (son los mismos vistos en clase). No cambiar\n",
    "qc1 = QuantumCircuit(2)\n",
    "qc2 = QuantumCircuit(2)\n",
    "qc3 = QuantumCircuit(2)\n",
    "qc4 = QuantumCircuit(2)\n",
    "qc5 = QuantumCircuit(4)\n",
    "qc6 = QuantumCircuit(5)\n",
    "qc2.cx(0, 1)\n",
    "qc3.cx(0, 1)\n",
    "qc3.x(1)\n",
    "qc4.x(1)\n",
    "qc6.cx(0, 3)\n",
    "qc6.cx(2, 3)\n",
    "orac1 = qc1.to_gate()\n",
    "orac1.name = 'oráculo U_f'\n",
    "orac2 = qc2.to_gate()\n",
    "orac2.name = 'oráculo U_f'\n",
    "orac3 = qc3.to_gate()\n",
    "orac3.name = 'oráculo U_f'\n",
    "orac4 = qc4.to_gate()\n",
    "orac4.name = 'oráculo U_f'\n",
    "orac5 = qc5.to_gate()\n",
    "orac5.name = 'oráculo U_f'\n",
    "orac6 = qc6.to_gate()\n",
    "orac6.name = 'oráculo U_f'"
   ]
  },
  {
   "cell_type": "markdown",
   "metadata": {},
   "source": [
    "### Ejercicio 0 (Convertir un número a una lista binaria)\n",
    "En este ejercicio se les proporciona una función que recibe: \n",
    "\n",
    "* Un número entero ```n``` que indica la longitud de la cadena de ceros y unos \n",
    "* Un número entero ```k``` tal que $0 \\leq k < 2^n$ al cual convertiremos en cadena de ceros y unos de longitud $n$\n",
    "\n",
    "La función retornar una lista de longitud $n$ que almacene la representación binaria de $k$ dígito a dígito."
   ]
  },
  {
   "cell_type": "code",
   "execution_count": 3,
   "metadata": {},
   "outputs": [],
   "source": [
    "def decimal_a_binario(n, k):\n",
    "    '''\n",
    "    Esta función recibe una longitud n y un entero k. Retorna una lista de longitud n tal que cada elemento\n",
    "    es un dígito de la representación binaria de k.\n",
    "    '''\n",
    "    \n",
    "    lista_binaria = []\n",
    "    \n",
    "    for i in reversed(range(n)):\n",
    "        bit = k // 2**i\n",
    "        k = k % 2**i\n",
    "        lista_binaria.append(bit)\n",
    "    \n",
    "    return lista_binaria"
   ]
  },
  {
   "cell_type": "markdown",
   "metadata": {},
   "source": [
    "Ustedes deben probar la función para 3 combinaciones válidas de valores de ```n``` y de ```k```, verificar que funciona correctamente y entenderla. Más adelante la deberán usar."
   ]
  },
  {
   "cell_type": "code",
   "execution_count": 4,
   "metadata": {},
   "outputs": [
    {
     "name": "stdout",
     "output_type": "stream",
     "text": [
      "[1, 0, 0]\n"
     ]
    }
   ],
   "source": [
    "# Prueba A: (Ejecutarla)\n",
    "\n",
    "print(decimal_a_binario(3, 4))"
   ]
  },
  {
   "cell_type": "code",
   "execution_count": 5,
   "metadata": {},
   "outputs": [
    {
     "name": "stdout",
     "output_type": "stream",
     "text": [
      "[0, 0, 1, 0, 0]\n"
     ]
    }
   ],
   "source": [
    "# Prueba B: (Ejecutarla)\n",
    "\n",
    "print(decimal_a_binario(5, 4))"
   ]
  },
  {
   "cell_type": "code",
   "execution_count": 6,
   "metadata": {},
   "outputs": [
    {
     "name": "stdout",
     "output_type": "stream",
     "text": [
      "[0, 1, 1, 1]\n"
     ]
    }
   ],
   "source": [
    "# Escriban en esta celda la Prueba 1: (Ejecutarla)\n",
    "print(decimal_a_binario(4, 7))"
   ]
  },
  {
   "cell_type": "code",
   "execution_count": 7,
   "metadata": {},
   "outputs": [
    {
     "name": "stdout",
     "output_type": "stream",
     "text": [
      "[0, 0, 1, 0, 1, 0]\n"
     ]
    }
   ],
   "source": [
    "# Escriban en esta celda la Prueba 2: (Ejecutarla)\n",
    "print(decimal_a_binario(6, 10))"
   ]
  },
  {
   "cell_type": "code",
   "execution_count": 8,
   "metadata": {},
   "outputs": [
    {
     "name": "stdout",
     "output_type": "stream",
     "text": [
      "[0, 1, 1, 1, 1, 0, 1, 1]\n"
     ]
    }
   ],
   "source": [
    "# Escriban en esta celda la Prueba 3: (Ejecutarla)\n",
    "print(decimal_a_binario(8, 123))"
   ]
  },
  {
   "cell_type": "markdown",
   "metadata": {},
   "source": [
    "### Ejercicio 1 (Consulta clásica de un oráculo)\n",
    "Escriban una función que reciba como parámetros: \n",
    "\n",
    "* Una compuerta cuántica en $n + 1$ qubits (oráculo) que en su interior codifica una función\n",
    "\n",
    "$$f: \\{0, 1\\}^{n} \\longrightarrow \\{0, 1\\}$$\n",
    "\n",
    "* Una cadena binaria $\\mathbf{c}$ de longitud $n$ dada como una lista (ver el ejercicio anterior).\n",
    "\n",
    "La función debe crear un circuito que contenga al oráculo, que esté debidamente inicializado en sus alambres correspondientes a las $x$ según el valor de $\\mathbf{c}$ ingresado y debe encontrar el valor de $f(\\mathbf{c})$ mediante el uso de 1 shot del simulador cuántico de Qiskit.\n",
    "\n",
    "La función debe retornar el valor $f(\\mathbf{c})$.\n",
    "\n",
    "*Esta función permite automatizar el procedimiento que vimos en clase de encontrar el valor de $f$ para una cadena dada.*\n",
    "\n",
    "Para este ejercicio deben completar la función que se presenta en la siguiente celda.\n",
    "\n",
    "* Ejemplo:\n",
    "\n",
    "Se ingresan como parámetros la compuerta ```orac6``` vista en clase que es una compuerta que actúa en 4 qubits y la lista ```[0, 0, 1]``` que representa a la cadena 001. La función debe retornar: ```1``` pues $f(001) = 1$."
   ]
  },
  {
   "cell_type": "code",
   "execution_count": 9,
   "metadata": {},
   "outputs": [],
   "source": [
    "def evaluar_oraculo_en_c(oraculo, c):\n",
    "    \n",
    "    \n",
    "    tam = oraculo.num_qubits   # Tamaño o número de qubits que abarca el oráculo. No cambiar.\n",
    "    \n",
    "    ## Declaren el circuito cuántico con los parámetros adecuados:\n",
    "    circuito = QuantumCircuit(tam,1)      \n",
    "    \n",
    "    ## Inicialización\n",
    "    ## Usen este ciclo for y un condicional if dentro del for para inicializar con el valor de c \n",
    "    ## los alambres superiores según los bits contenidos en la lista c. \n",
    "    for i in range(len(c)):\n",
    "        if c[i] == 1:\n",
    "            circuito.x(i)\n",
    "\n",
    "    # Insertar circuito. No cambiar el segundo parámetro.\n",
    "    circuito.append(oraculo, list(range(tam)))\n",
    "    \n",
    "    ## Medición\n",
    "    ## Añadan la medición con los parámetros adecuados:\n",
    "    circuito.measure(tam-1,0)\n",
    "    \n",
    "    ## Realización de la simulación con 1 shot \n",
    "    simulador = Aer.get_backend('qasm_simulator')\n",
    "    conteos = execute(circuito,backend=simulador,shots=1).result().get_counts()\n",
    "    valor_orac_en_c = int(list(conteos.keys())[0]) # No cambiar. Extrae del diccionario el estado medido\n",
    "    \n",
    "    ## Retornar lo solicitado en las indicaciones\n",
    "    return valor_orac_en_c             "
   ]
  },
  {
   "cell_type": "markdown",
   "metadata": {},
   "source": [
    "Ustedes deben probar la función para 3 combinaciones válidas de valores de oráculos y de listas."
   ]
  },
  {
   "cell_type": "code",
   "execution_count": 10,
   "metadata": {},
   "outputs": [
    {
     "name": "stdout",
     "output_type": "stream",
     "text": [
      "1\n"
     ]
    }
   ],
   "source": [
    "# Prueba A. (cuando su función esté lista el resultado de esta celda debe dar 1)\n",
    "\n",
    "print(evaluar_oraculo_en_c(orac4, [0]))"
   ]
  },
  {
   "cell_type": "code",
   "execution_count": 11,
   "metadata": {},
   "outputs": [
    {
     "name": "stdout",
     "output_type": "stream",
     "text": [
      "0\n"
     ]
    }
   ],
   "source": [
    "# Prueba B. (cuando su función esté lista el resultado de esta celda debe dar 0)\n",
    "\n",
    "print(evaluar_oraculo_en_c(orac5, [0, 1, 0]))"
   ]
  },
  {
   "cell_type": "code",
   "execution_count": 12,
   "metadata": {},
   "outputs": [
    {
     "name": "stdout",
     "output_type": "stream",
     "text": [
      "0\n"
     ]
    }
   ],
   "source": [
    "# Prueba 1: \n",
    "#(cuando su función esté lista el resultado de esta celda debe dar 1)\n",
    "\n",
    "print(evaluar_oraculo_en_c(orac6,[0,0,1]))"
   ]
  },
  {
   "cell_type": "code",
   "execution_count": 13,
   "metadata": {},
   "outputs": [
    {
     "name": "stdout",
     "output_type": "stream",
     "text": [
      "0\n"
     ]
    }
   ],
   "source": [
    "# Prueba 2:\n",
    "#(cuando su función esté lista el resultado de esta celda debe dar 0)\n",
    "print(evaluar_oraculo_en_c(orac3,[1]))"
   ]
  },
  {
   "cell_type": "code",
   "execution_count": 14,
   "metadata": {
    "scrolled": true
   },
   "outputs": [
    {
     "name": "stdout",
     "output_type": "stream",
     "text": [
      "0\n"
     ]
    }
   ],
   "source": [
    "# Prueba 3:\n",
    "#(cuando su función esté lista el resultado de esta celda debe dar 0)\n",
    "print(evaluar_oraculo_en_c(orac2,[0]))"
   ]
  },
  {
   "cell_type": "markdown",
   "metadata": {},
   "source": [
    "### Ejercicio 2 (Tabulación completa de un oráculo)\n",
    "Escriban una función que reciba como parámetro únicamente una compuerta cuántica en $n + 1$ qubits (oráculo) que en su interior codifica una función \n",
    "\n",
    "$$f: \\{0, 1\\}^{n} \\longrightarrow \\{0, 1\\}.$$\n",
    "\n",
    "La función debe imprimir el valor $f(\\mathbf{x})$ para cada cadena $\\mathbf{x}$ de ceros y unos en $\\{0, 1\\}^n$ y los datos que se muestran en el ejemplo dado a continuación.\n",
    "\n",
    "* Ejemplo:\n",
    "\n",
    "Se ingresa como parámetro la compuerta ```orac6``` vista en clase que es una compuerta que actúa en 4 qubits. La función debe imprimir:\n",
    "\n",
    "```\n",
    "s una\n",
    "-----------------------------------------------------\n",
    "\n",
    "f(000) = 0\n",
    "f(001) = 1\n",
    "f(010) = 0\n",
    "f(011) = 1\n",
    "f(100) = 1\n",
    "f(101) = 0\n",
    "f(110) = 1\n",
    "f(111) = 0 \n",
    "```\n",
    "\n",
    "\n",
    " "
   ]
  },
  {
   "cell_type": "code",
   "execution_count": 15,
   "metadata": {},
   "outputs": [],
   "source": [
    "def tabular_oraculo(oraculo):\n",
    "    '''\n",
    "    Esta función recibe como argumento una compuerta cuántica (oráculo) e imprime la tabulación de los valores\n",
    "    de f para toda cadena en su dominio.\n",
    "    '''\n",
    "\n",
    "    n = oraculo.num_qubits - 1   # Determina la longitud de las cadenas de 0s y 1s en el conjunto de salida de f.\n",
    "    \n",
    "    ## Crear un print que escriba el título de la tabulación según lo pedido en las indicaciones\n",
    "    \n",
    "    print(\"Tabla de valores de la función f:{0,1}^\",n,\"--->{0,1}\")\n",
    "    \n",
    "    # Este ciclo for debe recorrer los enteros de 0 a 2^n - 1. Notemos que al pasar esos números \n",
    "    # a binario obtendremos todas las posibles cadenas de 0s y 1s de longitud n. \n",
    "    # (Desde 00...0 hasta 11...1)\n",
    "     \n",
    "    # Completar \n",
    "    for i in range(0,(2**n-1)+1):   \n",
    "        \n",
    "        ## Completar con los parámetros adecuados para obtener una lista que contenga la \n",
    "        ## representación binaria del contador del ciclo.\n",
    "        s = decimal_a_binario(n,i)\n",
    "        \n",
    "        ## La variable 'valor' debe corresponder al valor de f(s) y debe hallarse usando la \n",
    "        ## función del ejercicio anterior\n",
    "        valor = evaluar_oraculo_en_c(oraculo,s)  \n",
    "  \n",
    "        \n",
    "        lista_a_cadena = ''.join([str(bit) for bit in s]) # Simplemente convierte la lista s a cadena para su\n",
    "                                                          # uso en el print. No cambiar.\n",
    "        \n",
    "        ## Completar el print para que escriba la línea solicitada en las indicaciones.\n",
    "        print(\"f(\"+lista_a_cadena+\") =\", valor)\n",
    "    \n",
    "\n"
   ]
  },
  {
   "cell_type": "markdown",
   "metadata": {},
   "source": [
    "Como prueba ustedes deben verificar que obtienen la misma tabla que la que se da en las indicaciones de arriba cuando pasan como parámetro el oráculo ```orac6```."
   ]
  },
  {
   "cell_type": "code",
   "execution_count": 16,
   "metadata": {},
   "outputs": [
    {
     "name": "stdout",
     "output_type": "stream",
     "text": [
      "Tabla de valores de la función f:{0,1}^ 4 --->{0,1}\n",
      "f(0000) = 0\n",
      "f(0001) = 0\n",
      "f(0010) = 0\n",
      "f(0011) = 0\n",
      "f(0100) = 0\n",
      "f(0101) = 0\n",
      "f(0110) = 0\n",
      "f(0111) = 0\n",
      "f(1000) = 0\n",
      "f(1001) = 0\n",
      "f(1010) = 0\n",
      "f(1011) = 0\n",
      "f(1100) = 0\n",
      "f(1101) = 0\n",
      "f(1110) = 0\n",
      "f(1111) = 0\n"
     ]
    }
   ],
   "source": [
    "# Prueba\n",
    "tabular_oraculo(orac6)"
   ]
  },
  {
   "cell_type": "markdown",
   "metadata": {},
   "source": [
    "### Ejercicio 3 (Determinar clásicamente si un oráculo contiene una función constante o balanceada)\n",
    "\n",
    "Modifiquen la función del ejercicio anterior para que decida e imprima si la función contenida dentro del oráculo es una función constante o balanceada. La función no debe retornar nada.\n",
    "\n",
    "* Ejemplo:\n",
    "\n",
    "Se ingresa como parámetro la compuerta ```orac6``` vista en clase que es una compuerta que actúa en 4 qubits. La función debe imprimir:\n",
    "\n",
    "```\n",
    "La función es balanceada\n",
    "```"
   ]
  },
  {
   "cell_type": "code",
   "execution_count": 17,
   "metadata": {},
   "outputs": [],
   "source": [
    "def cte_o_bal_clasico(oraculo):\n",
    "    \n",
    "    conta = 0 #Determinará cuantos f(n) son igual a 1.\n",
    "    isBalanceada = True #Determinará si es balanceada o no.\n",
    "    n = oraculo.num_qubits - 1   # Determina la longitud de las cadenas de 0s y 1s en el conjunto de salida de f.\n",
    "     \n",
    "    # Completar \n",
    "    for i in range(0,(2**n-1)+1):   \n",
    "        \n",
    "        ## Completar con los parámetros adecuados para obtener una lista que contenga la \n",
    "        ## representación binaria del contador del ciclo.\n",
    "        s = decimal_a_binario(n,i)\n",
    "        \n",
    "        ## La variable 'valor' debe corresponder al valor de f(s) y debe hallarse usando la \n",
    "        ## función del ejercicio anterior\n",
    "        valor = evaluar_oraculo_en_c(oraculo,s)  \n",
    "        \n",
    "        if valor == 1:\n",
    "            conta+=1\n",
    "            \n",
    "    if (conta == (2**n) or conta==0):\n",
    "        isBalanceada = False \n",
    "       \n",
    " \n",
    "    if isBalanceada:\n",
    "        print(\"La función es balanceada\")\n",
    "    else:\n",
    "        print(\"La función es constante\")\n",
    "        \n",
    "    return"
   ]
  },
  {
   "cell_type": "markdown",
   "metadata": {},
   "source": [
    "Ustedes deben probar la función para los 6 oráculos dados y verificar que sí están obteniendo lo que se menciona en el ejemplo dado arriba. Así como que sus resultados concuerdan con lo visto en clase."
   ]
  },
  {
   "cell_type": "code",
   "execution_count": 18,
   "metadata": {},
   "outputs": [
    {
     "name": "stdout",
     "output_type": "stream",
     "text": [
      "La función es constante\n"
     ]
    }
   ],
   "source": [
    "# Prueba orac1\n",
    "cte_o_bal_clasico(orac1)"
   ]
  },
  {
   "cell_type": "code",
   "execution_count": 19,
   "metadata": {},
   "outputs": [
    {
     "name": "stdout",
     "output_type": "stream",
     "text": [
      "La función es balanceada\n"
     ]
    }
   ],
   "source": [
    "# Prueba orac2\n",
    "cte_o_bal_clasico(orac2)"
   ]
  },
  {
   "cell_type": "code",
   "execution_count": 20,
   "metadata": {
    "scrolled": true
   },
   "outputs": [
    {
     "name": "stdout",
     "output_type": "stream",
     "text": [
      "La función es balanceada\n"
     ]
    }
   ],
   "source": [
    "# Prueba orac3\n",
    "cte_o_bal_clasico(orac3)"
   ]
  },
  {
   "cell_type": "code",
   "execution_count": 21,
   "metadata": {},
   "outputs": [
    {
     "name": "stdout",
     "output_type": "stream",
     "text": [
      "La función es constante\n"
     ]
    }
   ],
   "source": [
    "# Prueba orac4\n",
    "cte_o_bal_clasico(orac4)"
   ]
  },
  {
   "cell_type": "code",
   "execution_count": 22,
   "metadata": {},
   "outputs": [
    {
     "name": "stdout",
     "output_type": "stream",
     "text": [
      "La función es constante\n"
     ]
    }
   ],
   "source": [
    "# Prueba orac5\n",
    "cte_o_bal_clasico(orac5)"
   ]
  },
  {
   "cell_type": "code",
   "execution_count": 23,
   "metadata": {},
   "outputs": [
    {
     "name": "stdout",
     "output_type": "stream",
     "text": [
      "La función es constante\n"
     ]
    }
   ],
   "source": [
    "# Prueba orac6\n",
    "cte_o_bal_clasico(orac6)"
   ]
  },
  {
   "cell_type": "markdown",
   "metadata": {},
   "source": [
    "### Ejercicio 4 (Implementar el algoritmo de Deutsch/Deutsch-Jozsa)\n",
    "\n",
    "Escriban una función que reciba como parámetro únicamente una compuerta cuántica en $n + 1$ qubits (oráculo) que en su interior codifica una función \n",
    "\n",
    "$$f: \\{0, 1\\}^{n} \\longrightarrow \\{0, 1\\}.$$\n",
    "\n",
    "La función debe imprimir si la función es constante o balanceada según el resultado del algoritmo de Deutsch/Deutsch-Jozsa."
   ]
  },
  {
   "cell_type": "code",
   "execution_count": 24,
   "metadata": {},
   "outputs": [],
   "source": [
    "def algoritmo_deutsch_jozsa(oraculo):\n",
    "    \n",
    "    # Completar de acuerdo a lo usado en ejercicios anteriores\n",
    "    tam = oraculo.num_qubits\n",
    "    lista = []\n",
    "    \n",
    "    # Declaración del circuito\n",
    "    circuito = QuantumCircuit(tam,tam-1)\n",
    "    \n",
    "    # Negación en el alambre de abajo (insertar la línea correspondiente)\n",
    "    circuito.x(tam-1)\n",
    "    \n",
    "    # Compuertas de Hadamard (primer bloque cubre todos los alambres) Insertar el código \n",
    "    \n",
    "    circuito.h(list(range(tam)))\n",
    "    \n",
    "    # Insertar circuito\n",
    "    circuito.append(oraculo,list(range(tam)))\n",
    "    \n",
    "    # Compuertas de Hadamard (segundo bloque). Tener en cuenta que el bloque debe llegar hasta el\n",
    "    # penúltimo alambre. Insertar código\n",
    "    \n",
    "    circuito.h(list(range(tam-1)))\n",
    "    \n",
    "    # Mediciones. No cambiar\n",
    "    circuito.measure(list(range(tam - 1)), list(range(tam - 1)))\n",
    "    \n",
    "    # Completar debidamente\n",
    "    simulador = Aer.get_backend('qasm_simulator')\n",
    "    conteos = execute(circuito,backend=simulador,shots=1).result().get_counts()\n",
    "    resultado_algoritmo = int(list(conteos.keys())[0])  # No cambiar. Extrae del diccionario el estado medido\n",
    "    \n",
    "    \n",
    "    if resultado_algoritmo == 0:\n",
    "        print(\"la función es constante\")\n",
    "    else:\n",
    "        print(\"la función es balanceada\" )\n",
    "    \n",
    "    return"
   ]
  },
  {
   "cell_type": "markdown",
   "metadata": {},
   "source": [
    "Ustedes deben probar que la función trabaja correctamente realizando la prueba con los 6 oráculos."
   ]
  },
  {
   "cell_type": "code",
   "execution_count": 25,
   "metadata": {},
   "outputs": [
    {
     "name": "stdout",
     "output_type": "stream",
     "text": [
      "la función es constante\n"
     ]
    }
   ],
   "source": [
    "# Prueba orac1\n",
    "algoritmo_deutsch_jozsa(orac1)"
   ]
  },
  {
   "cell_type": "code",
   "execution_count": 26,
   "metadata": {},
   "outputs": [
    {
     "name": "stdout",
     "output_type": "stream",
     "text": [
      "la función es balanceada\n"
     ]
    }
   ],
   "source": [
    "# Prueba orac2\n",
    "algoritmo_deutsch_jozsa(orac2)"
   ]
  },
  {
   "cell_type": "code",
   "execution_count": 27,
   "metadata": {},
   "outputs": [
    {
     "name": "stdout",
     "output_type": "stream",
     "text": [
      "la función es balanceada\n"
     ]
    }
   ],
   "source": [
    "# Prueba orac3\n",
    "algoritmo_deutsch_jozsa(orac3)"
   ]
  },
  {
   "cell_type": "code",
   "execution_count": 28,
   "metadata": {},
   "outputs": [
    {
     "name": "stdout",
     "output_type": "stream",
     "text": [
      "la función es constante\n"
     ]
    }
   ],
   "source": [
    "# Prueba orac4\n",
    "algoritmo_deutsch_jozsa(orac4)"
   ]
  },
  {
   "cell_type": "code",
   "execution_count": 29,
   "metadata": {},
   "outputs": [
    {
     "name": "stdout",
     "output_type": "stream",
     "text": [
      "la función es constante\n"
     ]
    }
   ],
   "source": [
    "# Prueba orac5\n",
    "algoritmo_deutsch_jozsa(orac5)"
   ]
  },
  {
   "cell_type": "code",
   "execution_count": 30,
   "metadata": {},
   "outputs": [
    {
     "name": "stdout",
     "output_type": "stream",
     "text": [
      "la función es constante\n"
     ]
    }
   ],
   "source": [
    "# Prueba orac6\n",
    "algoritmo_deutsch_jozsa(orac6)"
   ]
  }
 ],
 "metadata": {
  "kernelspec": {
   "display_name": "Python 3",
   "language": "python",
   "name": "python3"
  },
  "language_info": {
   "codemirror_mode": {
    "name": "ipython",
    "version": 3
   },
   "file_extension": ".py",
   "mimetype": "text/x-python",
   "name": "python",
   "nbconvert_exporter": "python",
   "pygments_lexer": "ipython3",
   "version": "3.8.3"
  }
 },
 "nbformat": 4,
 "nbformat_minor": 4
}
