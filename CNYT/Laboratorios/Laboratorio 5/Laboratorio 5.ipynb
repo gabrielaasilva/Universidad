{
 "cells": [
  {
   "cell_type": "markdown",
   "metadata": {},
   "source": [
    "# Laboratorio 5\n",
    "\n",
    "**Ana Gabriela Silva Briceño** \n",
    "\n",
    "**27/10/2020**"
   ]
  },
  {
   "cell_type": "code",
   "execution_count": 1,
   "metadata": {},
   "outputs": [],
   "source": [
    "#Importación\n",
    "from qiskit import QuantumCircuit #Clase para crear circuitos\n",
    "from qiskit import execute #Función para ejecutar simulaciones o trabajos en computadores cuánticos reales.\n",
    "from qiskit import Aer #Módulo donde encontramos el acceso al simulador\n",
    "from qiskit.visualization import plot_histogram #Visualizador del output como gráfico de barras\n",
    "%matplotlib inline \n",
    "import numpy as np"
   ]
  },
  {
   "cell_type": "code",
   "execution_count": 2,
   "metadata": {},
   "outputs": [],
   "source": [
    "def decimal_a_binario(n, k):\n",
    "    '''\n",
    "    Esta función recibe una longitud n y un entero k. Retorna una lista de longitud n tal que cada elemento\n",
    "    es un dígito de la representación binaria de k.\n",
    "    '''\n",
    "    \n",
    "    lista_binaria = []\n",
    "    \n",
    "    for i in reversed(range(n)):\n",
    "        bit = k // 2**i\n",
    "        k = k % 2**i\n",
    "        lista_binaria.append(bit)\n",
    "    \n",
    "    return lista_binaria"
   ]
  },
  {
   "cell_type": "code",
   "execution_count": 3,
   "metadata": {},
   "outputs": [],
   "source": [
    "def evaluar_oraculo_en_c(oraculo, c):\n",
    "    \n",
    "    \n",
    "    tam = oraculo.num_qubits   # Tamaño o número de qubits que abarca el oráculo. No cambiar.\n",
    "    \n",
    "    ## Declaren el circuito cuántico con los parámetros adecuados:\n",
    "    circuito = QuantumCircuit(tam,1)      \n",
    "    \n",
    "    ## Inicialización\n",
    "    ## Usen este ciclo for y un condicional if dentro del for para inicializar con el valor de c \n",
    "    ## los alambres superiores según los bits contenidos en la lista c. \n",
    "    for i in range(len(c)):\n",
    "        if c[i] == 1:\n",
    "            circuito.x(i)\n",
    "\n",
    "    # Insertar circuito. No cambiar el segundo parámetro.\n",
    "    circuito.append(oraculo, list(range(tam)))\n",
    "    \n",
    "    ## Medición\n",
    "    ## Añadan la medición con los parámetros adecuados:\n",
    "    circuito.measure(tam-1,0)\n",
    "    \n",
    "    ## Realización de la simulación con 1 shot \n",
    "    simulador = Aer.get_backend('qasm_simulator')\n",
    "    conteos = execute(circuito,backend=simulador,shots=1).result().get_counts()\n",
    "    valor_orac_en_c = int(list(conteos.keys())[0]) # No cambiar. Extrae del diccionario el estado medido\n",
    "    \n",
    "    ## Retornar lo solicitado en las indicaciones\n",
    "    return valor_orac_en_c"
   ]
  },
  {
   "cell_type": "code",
   "execution_count": 4,
   "metadata": {},
   "outputs": [],
   "source": [
    "def tabular_oraculo(oraculo):\n",
    "    '''\n",
    "    Esta función recibe como argumento una compuerta cuántica (oráculo) e imprime la tabulación de los valores\n",
    "    de f para toda cadena en su dominio.\n",
    "    '''\n",
    "\n",
    "    n = oraculo.num_qubits - 1   # Determina la longitud de las cadenas de 0s y 1s en el conjunto de salida de f.\n",
    "    \n",
    "    ## Crear un print que escriba el título de la tabulación según lo pedido en las indicaciones\n",
    "    \n",
    "    print(\"Tabla de valores de la función f:{0,1}^\",n,\"--->{0,1}\")\n",
    "    \n",
    "    # Este ciclo for debe recorrer los enteros de 0 a 2^n - 1. Notemos que al pasar esos números \n",
    "    # a binario obtendremos todas las posibles cadenas de 0s y 1s de longitud n. \n",
    "    # (Desde 00...0 hasta 11...1)\n",
    "     \n",
    "    # Completar \n",
    "    for i in range(0,(2**n-1)+1):   \n",
    "        \n",
    "        ## Completar con los parámetros adecuados para obtener una lista que contenga la \n",
    "        ## representación binaria del contador del ciclo.\n",
    "        s = decimal_a_binario(n,i)\n",
    "        \n",
    "        ## La variable 'valor' debe corresponder al valor de f(s) y debe hallarse usando la \n",
    "        ## función del ejercicio anterior\n",
    "        valor = evaluar_oraculo_en_c(oraculo,s)  \n",
    "  \n",
    "        \n",
    "        lista_a_cadena = ''.join([str(bit) for bit in s]) # Simplemente convierte la lista s a cadena para su\n",
    "                                                          # uso en el print. No cambiar.\n",
    "        \n",
    "        ## Completar el print para que escriba la línea solicitada en las indicaciones.\n",
    "        print(\"f(\"+lista_a_cadena+\") =\", valor)\n",
    "    \n"
   ]
  },
  {
   "cell_type": "markdown",
   "metadata": {},
   "source": [
    "## Ejercicio 1 "
   ]
  },
  {
   "attachments": {
    "image.png": {
     "image/png": "[encoded data removed]"
    }
   },
   "cell_type": "markdown",
   "metadata": {},
   "source": [
    "![image.png](attachment:image.png)"
   ]
  },
  {
   "cell_type": "markdown",
   "metadata": {},
   "source": [
    "- **Condición 1:** Empieza con 00 ó empieza con 01.\n",
    "- **Condición 2:** Empieza con  0."
   ]
  },
  {
   "cell_type": "markdown",
   "metadata": {},
   "source": [
    "**Circuito condición 1**"
   ]
  },
  {
   "cell_type": "code",
   "execution_count": 10,
   "metadata": {},
   "outputs": [
    {
     "data": {
      "image/png": "[encoded data removed]",
      "text/plain": [
       "<Figure size 539.392x264.88 with 1 Axes>"
      ]
     },
     "execution_count": 10,
     "metadata": {},
     "output_type": "execute_result"
    }
   ],
   "source": [
    "circuito = QuantumCircuit(4)\n",
    "circuito.x(0)\n",
    "circuito.x(1)\n",
    "circuito.ccx(0,1,3)\n",
    "circuito.x(0)\n",
    "circuito.x(1)\n",
    "#circuito.barrier()\n",
    "circuito.x(0)\n",
    "circuito.ccx(0,1,3)\n",
    "circuito.x(0)\n",
    "\n",
    "\n",
    "circuito.draw(output='mpl')"
   ]
  },
  {
   "cell_type": "markdown",
   "metadata": {},
   "source": [
    "- En el primer Toffoli, en los qubits tienen compuertas x a cada lado ya que inicia en 00.\n",
    "- En el segundo Toffoli, en el primer qubit tiene compuertas x en ambos lados y en el seguno no ya que inicia en 01."
   ]
  },
  {
   "cell_type": "code",
   "execution_count": 11,
   "metadata": {},
   "outputs": [],
   "source": [
    "orac = circuito.to_gate()\n",
    "orac.name = 'Oráculo Uno_a'"
   ]
  },
  {
   "cell_type": "code",
   "execution_count": 12,
   "metadata": {},
   "outputs": [
    {
     "name": "stdout",
     "output_type": "stream",
     "text": [
      "Tabla de valores de la función f:{0,1}^ 3 --->{0,1}\n",
      "f(000) = 1\n",
      "f(001) = 1\n",
      "f(010) = 1\n",
      "f(011) = 1\n",
      "f(100) = 0\n",
      "f(101) = 0\n",
      "f(110) = 0\n",
      "f(111) = 0\n"
     ]
    }
   ],
   "source": [
    "tabular_oraculo(orac)"
   ]
  },
  {
   "cell_type": "code",
   "execution_count": 13,
   "metadata": {
    "scrolled": true
   },
   "outputs": [
    {
     "data": {
      "image/png": "[encoded data removed]",
      "text/plain": [
       "<Figure size 900.592x325.08 with 1 Axes>"
      ]
     },
     "execution_count": 13,
     "metadata": {},
     "output_type": "execute_result"
    }
   ],
   "source": [
    "circuito_1 = QuantumCircuit(4,3)\n",
    "circuito_1.x(3)\n",
    "circuito_1.barrier()\n",
    "circuito_1.h(0)\n",
    "circuito_1.h(1)\n",
    "circuito_1.h(2)\n",
    "circuito_1.h(3)\n",
    "circuito_1.append(orac,[0,1,2,3])\n",
    "circuito_1.h(0)\n",
    "circuito_1.h(1)\n",
    "circuito_1.h(2)\n",
    "circuito_1.measure(0,0)\n",
    "circuito_1.measure(1,1)\n",
    "circuito_1.measure(2,2)\n",
    "\n",
    "circuito_1.draw(output='mpl')"
   ]
  },
  {
   "cell_type": "code",
   "execution_count": 14,
   "metadata": {},
   "outputs": [
    {
     "name": "stdout",
     "output_type": "stream",
     "text": [
      "Job Status: job has successfully run\n",
      "{'001': 1000}\n"
     ]
    }
   ],
   "source": [
    "#Ejecucion en un computador cuántico real\n",
    "from qiskit import IBMQ\n",
    "IBMQ.load_account()\n",
    "\n",
    "proveedor = IBMQ.get_provider('ibm-q')\n",
    "comp_cuantico = proveedor.get_backend('ibmq_qasm_simulator')\n",
    "ejecucion = execute(circuito_1, backend = comp_cuantico, shots=1000)\n",
    "\n",
    "from qiskit.tools.monitor import job_monitor\n",
    "\n",
    "job_monitor(ejecucion)\n",
    "\n",
    "resultado = ejecucion.result() \n",
    "conteos1 = resultado.get_counts()\n",
    "\n",
    "print(conteos1)"
   ]
  },
  {
   "cell_type": "code",
   "execution_count": null,
   "metadata": {},
   "outputs": [],
   "source": [
    "plot_histogram(conteos1)"
   ]
  },
  {
   "cell_type": "markdown",
   "metadata": {},
   "source": [
    "**Circuito condición 2**"
   ]
  },
  {
   "cell_type": "code",
   "execution_count": null,
   "metadata": {},
   "outputs": [],
   "source": [
    "circuito1 = QuantumCircuit(4)\n",
    "circuito1.x(0)\n",
    "circuito1.cx(0,3)\n",
    "circuito1.x(0)\n",
    "\n",
    "\n",
    "circuito1.draw(output='mpl')"
   ]
  },
  {
   "cell_type": "markdown",
   "metadata": {},
   "source": [
    "- Las compuertas x en el primer qubit representa la condición que empieza en 1."
   ]
  },
  {
   "cell_type": "code",
   "execution_count": null,
   "metadata": {},
   "outputs": [],
   "source": [
    "orac1 = circuito1.to_gate()\n",
    "orac1.name = 'Oráculo Uno_b'"
   ]
  },
  {
   "cell_type": "code",
   "execution_count": null,
   "metadata": {},
   "outputs": [],
   "source": [
    "tabular_oraculo(orac1)"
   ]
  },
  {
   "cell_type": "code",
   "execution_count": null,
   "metadata": {},
   "outputs": [],
   "source": [
    "circuito_2 = QuantumCircuit(4,3)\n",
    "circuito_2.x(3)\n",
    "circuito_2.barrier()\n",
    "circuito_2.h(0)\n",
    "circuito_2.h(1)\n",
    "circuito_2.h(2)\n",
    "circuito_2.h(3)\n",
    "circuito_2.append(orac1,[0,1,2,3])\n",
    "circuito_2.h(0)\n",
    "circuito_2.h(1)\n",
    "circuito_2.h(2)\n",
    "circuito_2.measure(0,0)\n",
    "circuito_2.measure(1,1)\n",
    "circuito_2.measure(2,2)\n",
    "\n",
    "circuito_2.draw(output='mpl')"
   ]
  },
  {
   "cell_type": "code",
   "execution_count": null,
   "metadata": {},
   "outputs": [],
   "source": [
    "\n",
    "proveedor = IBMQ.get_provider('ibm-q')\n",
    "comp_cuantico = proveedor.get_backend('ibmq_qasm_simulator')\n",
    "ejecucion = execute(circuito_2, backend = comp_cuantico, shots=1000)\n",
    "\n",
    "from qiskit.tools.monitor import job_monitor\n",
    "\n",
    "job_monitor(ejecucion)\n",
    "\n",
    "resultado = ejecucion.result() \n",
    "conteos2 = resultado.get_counts()\n",
    "\n",
    "print(conteos2)"
   ]
  },
  {
   "cell_type": "code",
   "execution_count": null,
   "metadata": {},
   "outputs": [],
   "source": [
    "plot_histogram(conteos2)"
   ]
  },
  {
   "cell_type": "markdown",
   "metadata": {},
   "source": [
    "- Computador cuántico : ibmq_qasm_simulator\n",
    "\n",
    "En ninguno de los dos resultados se obtiene el estado |000⟩, ya que se realiza con el algoritmo de Deustch-Jozsa podemos afirmar que la función es balanceada."
   ]
  },
  {
   "cell_type": "markdown",
   "metadata": {},
   "source": [
    "## Ejercicio 3"
   ]
  },
  {
   "attachments": {
    "image.png": {
     "image/png": "[encoded data removed]"
    }
   },
   "cell_type": "markdown",
   "metadata": {},
   "source": [
    "![image.png](attachment:image.png)"
   ]
  },
  {
   "cell_type": "markdown",
   "metadata": {},
   "source": [
    "**Condición:** Empieza por 11 ó empieza y termina en 0."
   ]
  },
  {
   "cell_type": "code",
   "execution_count": null,
   "metadata": {},
   "outputs": [],
   "source": [
    "circuito3 = QuantumCircuit(4)\n",
    "circuito3.ccx(0,1,3)\n",
    "circuito3.barrier()\n",
    "circuito3.x(0)\n",
    "circuito3.x(2)\n",
    "circuito3.ccx(0,2,3)\n",
    "circuito3.x(0)\n",
    "circuito3.x(2)\n",
    "\n",
    "circuito3.draw(output='mpl')"
   ]
  },
  {
   "cell_type": "markdown",
   "metadata": {},
   "source": [
    "- El primer Toffoli no tiene compuertas x a sus costados ya que empieza en 11.\n",
    "- El siguiente toffoli tiene compuertas x a sus costados en el qubit 1 y 3 ya que empieza o termina en 0."
   ]
  },
  {
   "cell_type": "code",
   "execution_count": null,
   "metadata": {},
   "outputs": [],
   "source": [
    "orac3 = circuito3.to_gate()\n",
    "orac3.name = 'Oráculo Tres'"
   ]
  },
  {
   "cell_type": "code",
   "execution_count": null,
   "metadata": {},
   "outputs": [],
   "source": [
    "tabular_oraculo(orac3)"
   ]
  },
  {
   "cell_type": "code",
   "execution_count": null,
   "metadata": {},
   "outputs": [],
   "source": [
    "circuito_3 = QuantumCircuit(4,3)\n",
    "circuito_3.x(3)\n",
    "circuito_3.barrier()\n",
    "circuito_3.h(0)\n",
    "circuito_3.h(1)\n",
    "circuito_3.h(2)\n",
    "circuito_3.h(3)\n",
    "circuito_3.append(orac3,[0,1,2,3])\n",
    "circuito_3.h(0)\n",
    "circuito_3.h(1)\n",
    "circuito_3.h(2)\n",
    "circuito_3.measure(0,0)\n",
    "circuito_3.measure(1,1)\n",
    "circuito_3.measure(2,2)\n",
    "\n",
    "circuito_3.draw(output='mpl')"
   ]
  },
  {
   "cell_type": "code",
   "execution_count": null,
   "metadata": {},
   "outputs": [],
   "source": [
    "proveedor = IBMQ.get_provider('ibm-q')\n",
    "comp_cuantico = proveedor.get_backend('ibmq_qasm_simulator')\n",
    "ejecucion = execute(circuito_3, backend = comp_cuantico, shots=1000)\n",
    "\n",
    "from qiskit.tools.monitor import job_monitor\n",
    "\n",
    "job_monitor(ejecucion)\n",
    "\n",
    "resultado = ejecucion.result() \n",
    "conteos3 = resultado.get_counts()\n",
    "\n",
    "print(conteos3)"
   ]
  },
  {
   "cell_type": "code",
   "execution_count": null,
   "metadata": {},
   "outputs": [],
   "source": [
    "plot_histogram(conteos3)"
   ]
  },
  {
   "cell_type": "markdown",
   "metadata": {},
   "source": [
    "- Computador cuántico : ibmq_qasm_simulator\n",
    "\n",
    "En ninguno de los dos resultados se obtiene el estado |000⟩, ya que se realiza con el algoritmo de Deustch-Jozsa podemos afirmar que la función es balanceada."
   ]
  },
  {
   "cell_type": "markdown",
   "metadata": {},
   "source": [
    "## Ejercicio 5"
   ]
  },
  {
   "attachments": {
    "image.png": {
     "image/png": "[encoded data removed]"
    }
   },
   "cell_type": "markdown",
   "metadata": {},
   "source": [
    "![image.png](attachment:image.png)"
   ]
  },
  {
   "cell_type": "markdown",
   "metadata": {},
   "source": [
    "Se hace el cambio del 001 --> 0 y 000 --> 1, quedaría así."
   ]
  },
  {
   "attachments": {
    "image.png": {
     "image/png": "[encoded data removed]"
    }
   },
   "cell_type": "markdown",
   "metadata": {},
   "source": [
    "![image.png](attachment:image.png)"
   ]
  },
  {
   "cell_type": "markdown",
   "metadata": {},
   "source": [
    "**Condición:** Empieza y termina con 0 ó empiezan y terminan con 1."
   ]
  },
  {
   "cell_type": "code",
   "execution_count": null,
   "metadata": {},
   "outputs": [],
   "source": [
    "circuito4 = QuantumCircuit(4)\n",
    "circuito4.x(0)\n",
    "circuito4.x(1)\n",
    "circuito4.ccx(0,1,2)\n",
    "circuito4.x(0)\n",
    "circuito4.x(1)\n",
    "\n",
    "circuito4.barrier()\n",
    "\n",
    "circuito4.x(0)\n",
    "circuito4.x(2)\n",
    "circuito4.ccx(0,2,3)\n",
    "circuito4.x(0)\n",
    "circuito4.x(2)\n",
    "circuito4.ccx(0,2,3)\n",
    "\n",
    "circuito4.barrier()\n",
    "\n",
    "circuito4.x(0)\n",
    "circuito4.x(1)\n",
    "circuito4.ccx(0,1,2)\n",
    "circuito4.x(0)\n",
    "circuito4.x(1)\n",
    "\n",
    "circuito4.draw(output='mpl')\n"
   ]
  },
  {
   "cell_type": "markdown",
   "metadata": {},
   "source": [
    "- En la primera y última parte tenemos Toffolis con compuertas x en el 1 y 2 qubit(Los número a intercambiar ambos empiezan con 00), y el target está en el tercer qubit ya que es el número que se intercambió. \n",
    "\n",
    "- Dentro de las barreras, el primer Toffoli representa con las compuertas x en el primer y tercer qubit que empieza y termina en 0, el segundo toffoli, sin compuertas x representa que inicia y termina en 1.  "
   ]
  },
  {
   "cell_type": "code",
   "execution_count": null,
   "metadata": {},
   "outputs": [],
   "source": [
    "orac4= circuito4.to_gate()\n",
    "orac4.name = 'Oráculo Cuarto'"
   ]
  },
  {
   "cell_type": "code",
   "execution_count": null,
   "metadata": {},
   "outputs": [],
   "source": [
    "tabular_oraculo(orac4)"
   ]
  },
  {
   "cell_type": "code",
   "execution_count": null,
   "metadata": {},
   "outputs": [],
   "source": [
    "circuito_4 = QuantumCircuit(4,3)\n",
    "circuito_4.x(3)\n",
    "circuito_4.barrier()\n",
    "circuito_4.h(0)\n",
    "circuito_4.h(1)\n",
    "circuito_4.h(2)\n",
    "circuito_4.h(3)\n",
    "circuito_4.append(orac4,[0,1,2,3])\n",
    "circuito_4.h(0)\n",
    "circuito_4.h(1)\n",
    "circuito_4.h(2)\n",
    "circuito_4.measure(0,0)\n",
    "circuito_4.measure(1,1)\n",
    "circuito_4.measure(2,2)\n",
    "\n",
    "circuito_4.draw(output='mpl')"
   ]
  },
  {
   "cell_type": "code",
   "execution_count": null,
   "metadata": {},
   "outputs": [],
   "source": [
    "proveedor = IBMQ.get_provider('ibm-q')\n",
    "comp_cuantico = proveedor.get_backend('ibmq_qasm_simulator')\n",
    "ejecucion = execute(circuito_4, backend = comp_cuantico, shots=1000)\n",
    "\n",
    "from qiskit.tools.monitor import job_monitor\n",
    "\n",
    "job_monitor(ejecucion)\n",
    "\n",
    "resultado = ejecucion.result() \n",
    "conteos4 = resultado.get_counts()\n",
    "\n",
    "print(conteos4)"
   ]
  },
  {
   "cell_type": "code",
   "execution_count": null,
   "metadata": {},
   "outputs": [],
   "source": [
    "plot_histogram(conteos4)"
   ]
  },
  {
   "cell_type": "markdown",
   "metadata": {},
   "source": [
    "- Computador cuántico : ibmq_qasm_simulator\n",
    "\n",
    "En ninguno de los dos resultados se obtiene el estado |000⟩, ya que se realiza con el algoritmo de Deustch-Jozsa podemos afirmar que la función es balanceada.\n"
   ]
  },
  {
   "cell_type": "markdown",
   "metadata": {},
   "source": [
    "### **Análisis final**\n",
    "\n",
    "En ninguna de las tres funciones se dió el resultado de |000⟩ ya que por conocimientos previos de clase, sabemos que el resultado 000 es el único que nos indica que es constante la función, esta es la razón por la que no obtenemos este resultado ya que todas son funciones balanceadas. \n",
    "\n"
   ]
  },
  {
   "cell_type": "markdown",
   "metadata": {},
   "source": [
    "# QUIZ 1 TERCIO 3\n"
   ]
  },
  {
   "cell_type": "code",
   "execution_count": 16,
   "metadata": {},
   "outputs": [
    {
     "data": {
      "image/png": "[encoded data removed]",
      "text/plain": [
       "<Figure size 479.192x264.88 with 1 Axes>"
      ]
     },
     "execution_count": 16,
     "metadata": {},
     "output_type": "execute_result"
    }
   ],
   "source": [
    "circuitoquiz = QuantumCircuit(4)\n",
    "circuitoquiz.x(0)\n",
    "circuitoquiz.ccx(0,1,3)\n",
    "circuitoquiz.x(0)\n",
    "circuitoquiz.x(1)\n",
    "circuitoquiz.ccx(1,2,3)\n",
    "circuitoquiz.x(1)\n",
    "\n",
    "circuitoquiz.draw(output='mpl')\n"
   ]
  },
  {
   "cell_type": "code",
   "execution_count": 20,
   "metadata": {},
   "outputs": [],
   "source": [
    "oracQuiz = circuitoquiz.to_gate()\n",
    "oracQuiz.name = 'Oráculo Quiz'"
   ]
  },
  {
   "cell_type": "code",
   "execution_count": 21,
   "metadata": {},
   "outputs": [
    {
     "name": "stdout",
     "output_type": "stream",
     "text": [
      "Tabla de valores de la función f:{0,1}^ 3 --->{0,1}\n",
      "f(000) = 0\n",
      "f(001) = 1\n",
      "f(010) = 1\n",
      "f(011) = 1\n",
      "f(100) = 0\n",
      "f(101) = 1\n",
      "f(110) = 0\n",
      "f(111) = 0\n"
     ]
    }
   ],
   "source": [
    "tabular_oraculo(oracQuiz)"
   ]
  },
  {
   "cell_type": "markdown",
   "metadata": {},
   "source": [
    "**EQUIVALENCIA**"
   ]
  },
  {
   "cell_type": "code",
   "execution_count": 19,
   "metadata": {},
   "outputs": [
    {
     "data": {
      "image/png": "[encoded data removed]",
      "text/plain": [
       "<Figure size 418.992x264.88 with 1 Axes>"
      ]
     },
     "execution_count": 19,
     "metadata": {},
     "output_type": "execute_result"
    }
   ],
   "source": [
    "circuitoquiz2 = QuantumCircuit(4)\n",
    "circuitoquiz2.x(0)\n",
    "circuitoquiz2.ccx(0,1,3)\n",
    "circuitoquiz2.ccx(1,2,3)\n",
    "circuitoquiz2.x(1)\n",
    "\n",
    "circuitoquiz2.draw(output='mpl')"
   ]
  },
  {
   "cell_type": "code",
   "execution_count": 22,
   "metadata": {},
   "outputs": [],
   "source": [
    "oracQuiz2 = circuitoquiz2.to_gate()\n",
    "oracQuiz2.name = 'Oráculo Quiz'"
   ]
  },
  {
   "cell_type": "code",
   "execution_count": 23,
   "metadata": {},
   "outputs": [
    {
     "name": "stdout",
     "output_type": "stream",
     "text": [
      "Tabla de valores de la función f:{0,1}^ 3 --->{0,1}\n",
      "f(000) = 0\n",
      "f(001) = 0\n",
      "f(010) = 1\n",
      "f(011) = 0\n",
      "f(100) = 0\n",
      "f(101) = 0\n",
      "f(110) = 0\n",
      "f(111) = 1\n"
     ]
    }
   ],
   "source": [
    "tabular_oraculo(oracQuiz2)"
   ]
  },
  {
   "cell_type": "code",
   "execution_count": null,
   "metadata": {},
   "outputs": [],
   "source": []
  }
 ],
 "metadata": {
  "kernelspec": {
   "display_name": "Python 3",
   "language": "python",
   "name": "python3"
  },
  "language_info": {
   "codemirror_mode": {
    "name": "ipython",
    "version": 3
   },
   "file_extension": ".py",
   "mimetype": "text/x-python",
   "name": "python",
   "nbconvert_exporter": "python",
   "pygments_lexer": "ipython3",
   "version": "3.8.3"
  }
 },
 "nbformat": 4,
 "nbformat_minor": 4
}
