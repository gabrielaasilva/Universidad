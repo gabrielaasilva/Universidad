{
 "cells": [
  {
   "cell_type": "markdown",
   "metadata": {},
   "source": [
    "# Laboratorio 1. CNYT\n",
    "*Martes 11 de agosto de 2020* / \n",
    "**Nombre: Ana Gabriela Silva**"
   ]
  },
  {
   "cell_type": "markdown",
   "metadata": {},
   "source": [
    "## Experimentos básicos en computación cuántica usando Qiskit"
   ]
  },
  {
   "cell_type": "markdown",
   "metadata": {},
   "source": [
    "### 1. Qubits, iniciallización y medición"
   ]
  },
  {
   "cell_type": "code",
   "execution_count": 3,
   "metadata": {},
   "outputs": [],
   "source": [
    "#Importación\n",
    "from qiskit import QuantumCircuit #Clase para crear circuitos\n",
    "from qiskit import execute #Función para ejecutar simulaciones o trabajos en computadores cuánticos reales.\n",
    "from qiskit import Aer #Módulo donde encontramos el acceso al simulador\n",
    "from qiskit.visualization import plot_histogram #Visualizador del output como gráfico de barras\n",
    "%matplotlib inline "
   ]
  },
  {
   "cell_type": "markdown",
   "metadata": {},
   "source": [
    "**1.1.Experimento:** Cuando un qubit está inicializado en $|0\\rangle$ el resultado de la medición debe ser, en teoría, siempre $|0\\rangle$ (con 100% de probabilidad). 1 shot."
   ]
  },
  {
   "cell_type": "code",
   "execution_count": 6,
   "metadata": {},
   "outputs": [
    {
     "data": {
      "text/plain": [
       "<qiskit.circuit.instructionset.InstructionSet at 0x21b4c844640>"
      ]
     },
     "execution_count": 6,
     "metadata": {},
     "output_type": "execute_result"
    }
   ],
   "source": [
    "#Declaro y lleno un circuito\n",
    "circuito_exp_11 = QuantumCircuit(1,1) # 1 alambre cuántico (1 qubit) y un alambre clásico (1 medida)\n",
    "circuito_exp_11.measure(0,0) #Pongo como argumento los subíndices correspondientes"
   ]
  },
  {
   "cell_type": "code",
   "execution_count": 8,
   "metadata": {},
   "outputs": [
    {
     "data": {
      "image/png": "[encoded data removed]",
      "text/plain": [
       "<Figure size 173.376x144.48 with 1 Axes>"
      ]
     },
     "execution_count": 8,
     "metadata": {},
     "output_type": "execute_result"
    }
   ],
   "source": [
    "#Dibujo el circuito\n",
    "circuito_exp_11.draw(output='mpl')"
   ]
  },
  {
   "cell_type": "code",
   "execution_count": 12,
   "metadata": {},
   "outputs": [
    {
     "name": "stdout",
     "output_type": "stream",
     "text": [
      "{'0': 1}\n"
     ]
    }
   ],
   "source": [
    "#Simulamos una ejecución \n",
    "simulador = Aer.get_backend('qasm_simulator')\n",
    "ejecucion = execute(circuito_exp_11, backend = simulador,shots=1)\n",
    "resultado = ejecucion.result()\n",
    "conteos = resultado.get_counts()\n",
    "print(conteos)"
   ]
  },
  {
   "cell_type": "code",
   "execution_count": 2,
   "metadata": {
    "scrolled": true
   },
   "outputs": [
    {
     "ename": "NameError",
     "evalue": "name 'plot_histogram' is not defined",
     "output_type": "error",
     "traceback": [
      "\u001b[1;31m---------------------------------------------------------------------------\u001b[0m",
      "\u001b[1;31mNameError\u001b[0m                                 Traceback (most recent call last)",
      "\u001b[1;32m<ipython-input-2-882d40b17a9e>\u001b[0m in \u001b[0;36m<module>\u001b[1;34m\u001b[0m\n\u001b[1;32m----> 1\u001b[1;33m \u001b[0mplot_histogram\u001b[0m\u001b[1;33m(\u001b[0m\u001b[0mconteos\u001b[0m\u001b[1;33m)\u001b[0m\u001b[1;33m\u001b[0m\u001b[1;33m\u001b[0m\u001b[0m\n\u001b[0m",
      "\u001b[1;31mNameError\u001b[0m: name 'plot_histogram' is not defined"
     ]
    }
   ],
   "source": [
    "plot_histogram(conteos)"
   ]
  },
  {
   "cell_type": "markdown",
   "metadata": {},
   "source": [
    "**Conclusiones 1.1.** Este experimento se ejecutó en el backend **qasm_simulator**. Se esperaba que el resulado de la única ejecución correspondieran al estado $|0\\rangle$. Y así fue, se cumplió lo esperado que era el 100 porciento de probabilidad en el estado $|0\\rangle$."
   ]
  },
  {
   "cell_type": "markdown",
   "metadata": {},
   "source": [
    "**1.2.Experimento:** Cuando un qubit está inicializado en $|0\\rangle$ el resultado de la medición debe ser, en teoría, siempre $|0\\rangle$ (con 100% de probabilidad). 1000 shots."
   ]
  },
  {
   "cell_type": "code",
   "execution_count": 21,
   "metadata": {},
   "outputs": [
    {
     "data": {
      "text/plain": [
       "<qiskit.circuit.instructionset.InstructionSet at 0x21b5c621400>"
      ]
     },
     "execution_count": 21,
     "metadata": {},
     "output_type": "execute_result"
    }
   ],
   "source": [
    "#Declaro y lleno un circuito\n",
    "circuito_exp_12 = QuantumCircuit(1,1) \n",
    "circuito_exp_12.measure(0,0)"
   ]
  },
  {
   "cell_type": "code",
   "execution_count": 17,
   "metadata": {},
   "outputs": [
    {
     "data": {
      "image/png": "[encoded data removed]",
      "text/plain": [
       "<Figure size 173.376x144.48 with 1 Axes>"
      ]
     },
     "execution_count": 17,
     "metadata": {},
     "output_type": "execute_result"
    }
   ],
   "source": [
    "#Dibujo\n",
    "circuito_exp_12.draw(output='mpl')"
   ]
  },
  {
   "cell_type": "code",
   "execution_count": 19,
   "metadata": {},
   "outputs": [
    {
     "name": "stdout",
     "output_type": "stream",
     "text": [
      "{'0': 1000}\n"
     ]
    }
   ],
   "source": [
    "#El simulador no es necesario ponerlo de nuevo\n",
    "ejecucion = execute(circuito_exp_12, backend = simulador,shots=1000)\n",
    "resultado = ejecucion.result()\n",
    "conteos2 = resultado.get_counts()\n",
    "print(conteos2)"
   ]
  },
  {
   "cell_type": "code",
   "execution_count": 20,
   "metadata": {},
   "outputs": [
    {
     "data": {
      "image/png": "[encoded data removed]",
      "text/plain": [
       "<Figure size 504x360 with 1 Axes>"
      ]
     },
     "execution_count": 20,
     "metadata": {},
     "output_type": "execute_result"
    }
   ],
   "source": [
    "plot_histogram(conteos2)"
   ]
  },
  {
   "cell_type": "markdown",
   "metadata": {},
   "source": [
    "**Conclusiones 1.2.** Este experimento se ejecutó en el backend **qasm_simulator**. Se esperaba que el resulado de las 1000 ejecuciones correspondieran al estado $|0\\rangle$. Y así fue, se cumplió lo esperado que era el 100 porciento de probabilidad en el estado $|0\\rangle$."
   ]
  },
  {
   "cell_type": "markdown",
   "metadata": {},
   "source": [
    "**1.3.Experimento:** Cuando un qubit está inicializado en $|0\\rangle$ el resultado de la medición debe ser, en teoría, siempre $|0\\rangle$ (con 100% de probabilidad). 1000 shots en un computador cuántico real."
   ]
  },
  {
   "cell_type": "code",
   "execution_count": 22,
   "metadata": {},
   "outputs": [
    {
     "data": {
      "text/plain": [
       "<qiskit.circuit.instructionset.InstructionSet at 0x21b5c5ab6a0>"
      ]
     },
     "execution_count": 22,
     "metadata": {},
     "output_type": "execute_result"
    }
   ],
   "source": [
    "#Declaro y lleno un circuito\n",
    "circuito_exp_13 = QuantumCircuit(1,1) \n",
    "circuito_exp_13.measure(0,0)"
   ]
  },
  {
   "cell_type": "code",
   "execution_count": 23,
   "metadata": {},
   "outputs": [
    {
     "data": {
      "image/png": "[encoded data removed]",
      "text/plain": [
       "<Figure size 173.376x144.48 with 1 Axes>"
      ]
     },
     "execution_count": 23,
     "metadata": {},
     "output_type": "execute_result"
    }
   ],
   "source": [
    "#Dibujo\n",
    "circuito_exp_13.draw(output='mpl')"
   ]
  },
  {
   "cell_type": "code",
   "execution_count": 25,
   "metadata": {},
   "outputs": [
    {
     "name": "stderr",
     "output_type": "stream",
     "text": [
      "ibmqfactory.load_account:WARNING:2020-08-11 14:25:34,802: Credentials are already in use. The existing account in the session will be replaced.\n"
     ]
    },
    {
     "name": "stdout",
     "output_type": "stream",
     "text": [
      "Job Status: job has successfully run\n",
      "{'0': 992, '1': 8}\n"
     ]
    }
   ],
   "source": [
    "#Ejecucion en un computador cuántico real\n",
    "from qiskit import IBMQ\n",
    "IBMQ.load_account()\n",
    "\n",
    "proveedor = IBMQ.get_provider('ibm-q')\n",
    "comp_cuantico = proveedor.get_backend('ibmq_vigo')\n",
    "ejecucion = execute(circuito_exp_13, backend = comp_cuantico, shots=1000)\n",
    "\n",
    "from qiskit.tools.monitor import job_monitor\n",
    "\n",
    "job_monitor(ejecucion)\n",
    "\n",
    "resultado = ejecucion.result() \n",
    "conteos = resultado.get_counts()\n",
    "\n",
    "print(conteos)"
   ]
  },
  {
   "cell_type": "code",
   "execution_count": 27,
   "metadata": {},
   "outputs": [
    {
     "data": {
      "image/png": "[encoded data removed]",
      "text/plain": [
       "<Figure size 504x360 with 1 Axes>"
      ]
     },
     "execution_count": 27,
     "metadata": {},
     "output_type": "execute_result"
    }
   ],
   "source": [
    "plot_histogram(conteos)"
   ]
  },
  {
   "cell_type": "markdown",
   "metadata": {},
   "source": [
    "**Conclusiones 1.3.** Este experimento se ejecutó en el backend **ibmq_vigo**. Se esperaba que el resulado de las 1000 ejecuciones correspondieran al estado $|0\\rangle$. Sin embargo:\n",
    "\n",
    "| Resultados correctos \t| Resultados incorrectos \t|\n",
    "|-\t|-\t|\n",
    "|   0.992 \t|   0.008 \t|\n",
    "|   99.2% \t|   0.8% \t|\n",
    "\n",
    "El error en el 0.8% de las ejecuciones se debe a que estamos trabajando en un computador cuántico real el cual es susceptible al ruido (por ejemplo electromagnético) y a errores de medición. Llama la atención que se presenten errores aún cuando al qubit no se le aplicó ninguna transformación mediante compuertas, únicamente se realizó la medición como se puede notar en el circuito correspondiente. La diferencia entre ejecutar este circuito en el computador cuántico real y ejecutarlo en el simulador fue muy mínima ya que el en el computador cuántico el error no llego ni al uno por ciento.\n",
    "\n",
    "\n"
   ]
  },
  {
   "cell_type": "markdown",
   "metadata": {},
   "source": [
    "**1.4.Experimento:** Cuando un qubit está inicializado en  |1⟩  el resultado de la medición debe ser, en teoría, siempre  |1⟩  (con 100% de probabilidad). Shots 1."
   ]
  },
  {
   "cell_type": "code",
   "execution_count": 31,
   "metadata": {},
   "outputs": [
    {
     "data": {
      "text/plain": [
       "<qiskit.circuit.instructionset.InstructionSet at 0x21b5c7eda60>"
      ]
     },
     "execution_count": 31,
     "metadata": {},
     "output_type": "execute_result"
    }
   ],
   "source": [
    "#Declaro y lleno un circuito\n",
    "circuito_exp_14 = QuantumCircuit(1,1) # 1 alambre cuántico (1 qubit) y un alambre clásico (1 medida)\n",
    "circuito_exp_14.x(0) #Aplico una negación en el alambre para que el qubit pase a estado |1>\n",
    "circuito_exp_14.measure(0,0)"
   ]
  },
  {
   "cell_type": "code",
   "execution_count": 33,
   "metadata": {},
   "outputs": [
    {
     "data": {
      "image/png": "[encoded data removed]",
      "text/plain": [
       "<Figure size 233.576x144.48 with 1 Axes>"
      ]
     },
     "execution_count": 33,
     "metadata": {},
     "output_type": "execute_result"
    }
   ],
   "source": [
    "#Dibujo\n",
    "circuito_exp_14.draw(output= 'mpl')"
   ]
  },
  {
   "cell_type": "code",
   "execution_count": 34,
   "metadata": {},
   "outputs": [
    {
     "name": "stdout",
     "output_type": "stream",
     "text": [
      "{'1': 1}\n"
     ]
    }
   ],
   "source": [
    "#Simulamos una ejecución \n",
    "simulador = Aer.get_backend('qasm_simulator')\n",
    "ejecucion = execute(circuito_exp_14, backend = simulador,shots=1)\n",
    "resultado = ejecucion.result()\n",
    "conteos = resultado.get_counts()\n",
    "print(conteos)"
   ]
  },
  {
   "cell_type": "code",
   "execution_count": 35,
   "metadata": {},
   "outputs": [
    {
     "data": {
      "image/png": "[encoded data removed]",
      "text/plain": [
       "<Figure size 504x360 with 1 Axes>"
      ]
     },
     "execution_count": 35,
     "metadata": {},
     "output_type": "execute_result"
    }
   ],
   "source": [
    "plot_histogram(conteos)"
   ]
  },
  {
   "cell_type": "markdown",
   "metadata": {},
   "source": [
    "**Conclusiones 1.4.** Este experimento se ejecutó en el backend **qasm_simulator**. Se esperaba que el resulado de la única ejecución correspondieran al estado $|1\\rangle$. Y así fue, se cumplió lo esperado que era el 100 porciento de probabilidad en el estado $|1\\rangle$."
   ]
  },
  {
   "cell_type": "markdown",
   "metadata": {},
   "source": [
    "**1.5.Experimento:** Cuando un qubit está inicializado en |1⟩ el resultado de la medición debe ser, en teoría, siempre |1⟩ (con 100% de probabilidad). Shots 1000."
   ]
  },
  {
   "cell_type": "code",
   "execution_count": 36,
   "metadata": {},
   "outputs": [
    {
     "data": {
      "text/plain": [
       "<qiskit.circuit.instructionset.InstructionSet at 0x21b5c992fa0>"
      ]
     },
     "execution_count": 36,
     "metadata": {},
     "output_type": "execute_result"
    }
   ],
   "source": [
    "#Declaro y lleno un circuito\n",
    "circuito_exp_15 = QuantumCircuit(1,1) \n",
    "circuito_exp_15.x(0) \n",
    "circuito_exp_15.measure(0,0)"
   ]
  },
  {
   "cell_type": "code",
   "execution_count": 37,
   "metadata": {},
   "outputs": [
    {
     "data": {
      "image/png": "[encoded data removed]",
      "text/plain": [
       "<Figure size 233.576x144.48 with 1 Axes>"
      ]
     },
     "execution_count": 37,
     "metadata": {},
     "output_type": "execute_result"
    }
   ],
   "source": [
    "#Dibujo\n",
    "circuito_exp_15.draw(output= 'mpl')"
   ]
  },
  {
   "cell_type": "code",
   "execution_count": 38,
   "metadata": {},
   "outputs": [
    {
     "name": "stdout",
     "output_type": "stream",
     "text": [
      "{'1': 1000}\n"
     ]
    }
   ],
   "source": [
    "#Simulamos una ejecución \n",
    "simulador = Aer.get_backend('qasm_simulator')\n",
    "ejecucion = execute(circuito_exp_15, backend = simulador,shots=1000)\n",
    "resultado = ejecucion.result()\n",
    "conteos = resultado.get_counts()\n",
    "print(conteos)"
   ]
  },
  {
   "cell_type": "code",
   "execution_count": null,
   "metadata": {},
   "outputs": [],
   "source": [
    "plot_histogram(conteos)"
   ]
  },
  {
   "cell_type": "markdown",
   "metadata": {},
   "source": [
    "**Conclusiones 1.5.** Este experimento se ejecutó en el backend **qasm_simulator**. Se esperaba que el resulado de las 1000 ejecuciones correspondieran al estado $|1\\rangle$. Y así fue, se cumplió lo esperado que era el 100 porciento de probabilidad en el estado $|1\\rangle$."
   ]
  },
  {
   "cell_type": "markdown",
   "metadata": {},
   "source": [
    "**1.6.Experimento:** Cuando un qubit está inicializado en $|1\\rangle$ el resultado de la medición debe ser, en teoría, siempre $|1\\rangle$ (con 100% de probabilidad). 1000 shots en un computador cuántico real."
   ]
  },
  {
   "cell_type": "code",
   "execution_count": 40,
   "metadata": {},
   "outputs": [
    {
     "data": {
      "text/plain": [
       "<qiskit.circuit.instructionset.InstructionSet at 0x21b5cb02070>"
      ]
     },
     "execution_count": 40,
     "metadata": {},
     "output_type": "execute_result"
    }
   ],
   "source": [
    "#Declaro y lleno un circuito\n",
    "circuito_exp_16 = QuantumCircuit(1,1) \n",
    "circuito_exp_16.x(0) \n",
    "circuito_exp_16.measure(0,0)"
   ]
  },
  {
   "cell_type": "code",
   "execution_count": 41,
   "metadata": {},
   "outputs": [
    {
     "data": {
      "image/png": "[encoded data removed]",
      "text/plain": [
       "<Figure size 233.576x144.48 with 1 Axes>"
      ]
     },
     "execution_count": 41,
     "metadata": {},
     "output_type": "execute_result"
    }
   ],
   "source": [
    "#Dibujo\n",
    "circuito_exp_16.draw(output= 'mpl')"
   ]
  },
  {
   "cell_type": "code",
   "execution_count": 43,
   "metadata": {},
   "outputs": [
    {
     "name": "stdout",
     "output_type": "stream",
     "text": [
      "Job Status: job has successfully run\n",
      "{'0': 29, '1': 971}\n"
     ]
    }
   ],
   "source": [
    "proveedor = IBMQ.get_provider('ibm-q')\n",
    "comp_cuantico = proveedor.get_backend('ibmq_vigo')\n",
    "ejecucion = execute(circuito_exp_16, backend = comp_cuantico, shots=1000)\n",
    "\n",
    "job_monitor(ejecucion)\n",
    "\n",
    "resultado = ejecucion.result() \n",
    "conteos = resultado.get_counts()\n",
    "\n",
    "print(conteos)"
   ]
  },
  {
   "cell_type": "code",
   "execution_count": 44,
   "metadata": {},
   "outputs": [
    {
     "data": {
      "image/png": "[encoded data removed]",
      "text/plain": [
       "<Figure size 504x360 with 1 Axes>"
      ]
     },
     "execution_count": 44,
     "metadata": {},
     "output_type": "execute_result"
    }
   ],
   "source": [
    "plot_histogram(conteos)"
   ]
  },
  {
   "cell_type": "markdown",
   "metadata": {},
   "source": [
    "**Conclusiones 1.6.** Este experimento se ejecutó en el backend **ibmq_vigo**. Se esperaba que el resulado de las 1000 ejecuciones correspondieran al estado $|1\\rangle$. Sin embargo:\n",
    "\n",
    "| Resultados correctos \t| Resultados incorrectos \t|\n",
    "|-\t|-\t|\n",
    "|   0.971\t|   0.029\t|\n",
    "|   97.1% \t|   2.9% \t|\n",
    "\n",
    "El error en el 2.9%  de las ejecuciones se debe a que estamos trabajando en un computador cuántico real el cual es susceptible al ruido (por ejemplo electromagnético) y a errores de medición. Llama la atención que se presenten errores aún cuando al qubit no se le aplicó ninguna transformación mediante compuertas, únicamente se realizó la medición como se puede notar en el circuito correspondiente. La diferencia entre ejecutar este circuito en el computador cuántico real y ejecutarlo en el simulador fue muy mínima ya que el porcentaje de error no fue demasiado grande. La diferencia entre el estado $|1\\rangle$ y $|0\\rangle$, el error fue mayor para el estado $|1\\rangle$."
   ]
  },
  {
   "cell_type": "markdown",
   "metadata": {},
   "source": [
    "**1.7.Experimento:** Cuando un qubit está inicializado en la superposición $$|\\psi\\rangle = \\frac{1}{\\sqrt{2}} |0\\rangle + \\frac{1}{\\sqrt{2}}  |1\\rangle$$ \n",
    "\n",
    "Para lograr inicializar nuestro qubit en este estado debemos aplicar una compuerta H (o una compuerta de Hadamard a nuestro qubit que por defecto venía inicializado en |0⟩.\n",
    "\n",
    "el resultado de la medición debe ser, en teoría, |0⟩ con 50% de probabilidad y |1⟩ con 50% de probabilidad . 1 shot."
   ]
  },
  {
   "cell_type": "code",
   "execution_count": 45,
   "metadata": {},
   "outputs": [
    {
     "data": {
      "text/plain": [
       "<qiskit.circuit.instructionset.InstructionSet at 0x21b5ccb5400>"
      ]
     },
     "execution_count": 45,
     "metadata": {},
     "output_type": "execute_result"
    }
   ],
   "source": [
    "#Declaro y lleno un circuito\n",
    "circuito_exp_17 = QuantumCircuit(1,1) \n",
    "circuito_exp_17.h(0) \n",
    "circuito_exp_17.measure(0,0)"
   ]
  },
  {
   "cell_type": "code",
   "execution_count": 46,
   "metadata": {},
   "outputs": [
    {
     "data": {
      "image/png": "[encoded data removed]",
      "text/plain": [
       "<Figure size 233.576x144.48 with 1 Axes>"
      ]
     },
     "execution_count": 46,
     "metadata": {},
     "output_type": "execute_result"
    }
   ],
   "source": [
    "#Dibujo\n",
    "circuito_exp_17.draw(output= 'mpl')"
   ]
  },
  {
   "cell_type": "code",
   "execution_count": 48,
   "metadata": {},
   "outputs": [
    {
     "name": "stdout",
     "output_type": "stream",
     "text": [
      "{'1': 1}\n"
     ]
    }
   ],
   "source": [
    "simulador = Aer.get_backend('qasm_simulator')\n",
    "ejecucion = execute(circuito_exp_17, backend = simulador,shots=1)\n",
    "resultado = ejecucion.result()\n",
    "conteos = resultado.get_counts()\n",
    "print(conteos)"
   ]
  },
  {
   "cell_type": "code",
   "execution_count": 49,
   "metadata": {},
   "outputs": [
    {
     "data": {
      "image/png": "[encoded data removed]",
      "text/plain": [
       "<Figure size 504x360 with 1 Axes>"
      ]
     },
     "execution_count": 49,
     "metadata": {},
     "output_type": "execute_result"
    }
   ],
   "source": [
    "plot_histogram(conteos)"
   ]
  },
  {
   "cell_type": "markdown",
   "metadata": {},
   "source": [
    "**Conclusiones 1.7.** Este experimento se ejecutó en el backend **qasm_simulator**. Se esperaba que el 50% de probabilidad fuera del estado $|0\\rangle$ y el otro 50% del estado $|1\\rangle$.De la única ejecución el resultado di al estado $|1\\rangle$. No fue lo esperado ya que se realizó solo una ejecución no era posible de tener ambos estados en esta."
   ]
  },
  {
   "cell_type": "markdown",
   "metadata": {},
   "source": [
    "**1.8.Experimento:** Cuando un qubit está inicializado en la superposición $$|\\psi\\rangle = \\frac{1}{\\sqrt{2}} |0\\rangle + \\frac{1}{\\sqrt{2}}  |1\\rangle$$ \n",
    "\n",
    "Para lograr inicializar nuestro qubit en este estado debemos aplicar una compuerta H (o una compuerta de Hadamard a nuestro qubit que por defecto venía inicializado en |0⟩.\n",
    "\n",
    "el resultado de la medición debe ser, en teoría, |0⟩ con 50% de probabilidad y |1⟩ con 50% de probabilidad . 1000 shots."
   ]
  },
  {
   "cell_type": "code",
   "execution_count": 50,
   "metadata": {},
   "outputs": [
    {
     "data": {
      "text/plain": [
       "<qiskit.circuit.instructionset.InstructionSet at 0x21b5cc986d0>"
      ]
     },
     "execution_count": 50,
     "metadata": {},
     "output_type": "execute_result"
    }
   ],
   "source": [
    "#Declaro y lleno un circuito\n",
    "circuito_exp_18 = QuantumCircuit(1,1) \n",
    "circuito_exp_18.h(0) \n",
    "circuito_exp_18.measure(0,0)"
   ]
  },
  {
   "cell_type": "code",
   "execution_count": 51,
   "metadata": {},
   "outputs": [
    {
     "data": {
      "image/png": "[encoded data removed]",
      "text/plain": [
       "<Figure size 233.576x144.48 with 1 Axes>"
      ]
     },
     "execution_count": 51,
     "metadata": {},
     "output_type": "execute_result"
    }
   ],
   "source": [
    "#Dibujo\n",
    "circuito_exp_18.draw(output= 'mpl')"
   ]
  },
  {
   "cell_type": "code",
   "execution_count": 52,
   "metadata": {},
   "outputs": [
    {
     "name": "stdout",
     "output_type": "stream",
     "text": [
      "{'0': 492, '1': 508}\n"
     ]
    }
   ],
   "source": [
    "simulador = Aer.get_backend('qasm_simulator')\n",
    "ejecucion = execute(circuito_exp_17, backend = simulador,shots=1000)\n",
    "resultado = ejecucion.result()\n",
    "conteos = resultado.get_counts()\n",
    "print(conteos)"
   ]
  },
  {
   "cell_type": "code",
   "execution_count": 53,
   "metadata": {},
   "outputs": [
    {
     "data": {
      "image/png": "[encoded data removed]",
      "text/plain": [
       "<Figure size 504x360 with 1 Axes>"
      ]
     },
     "execution_count": 53,
     "metadata": {},
     "output_type": "execute_result"
    }
   ],
   "source": [
    "plot_histogram(conteos)"
   ]
  },
  {
   "cell_type": "markdown",
   "metadata": {},
   "source": [
    "**Conclusiones 1.8.** Este experimento se ejecutó en el backend **qasm_simulator**. Se esperaba que el 50% de probabilidad fuera del estado $|0\\rangle$ y el otro 50% del estado $|1\\rangle$. Sin embargo: \n",
    "\n",
    "| Estado $|0\\rangle$  \t| Estado $|1\\rangle$\t|\n",
    "|:-:\t|:-:\t|\n",
    "| 0.492 \t| 0.508 \t|\n",
    "| 49.2% \t| 50.8% \t|\n",
    "\n",
    "Hubo una diferencia de 0.8% entre los dos estados.\n",
    "\n"
   ]
  },
  {
   "cell_type": "markdown",
   "metadata": {},
   "source": [
    "**1.9.Experimento:** Cuando un qubit está inicializado en la superposición $$|\\psi\\rangle = \\frac{1}{\\sqrt{2}} |0\\rangle + \\frac{1}{\\sqrt{2}}  |1\\rangle$$ \n",
    "\n",
    "Para lograr inicializar nuestro qubit en este estado debemos aplicar una compuerta H (o una compuerta de Hadamard a nuestro qubit que por defecto venía inicializado en |0⟩.\n",
    "\n",
    "el resultado de la medición debe ser, en teoría, |0⟩ con 50% de probabilidad y |1⟩ con 50% de probabilidad . Con un computador cuántico real."
   ]
  },
  {
   "cell_type": "code",
   "execution_count": 4,
   "metadata": {},
   "outputs": [
    {
     "data": {
      "text/plain": [
       "<qiskit.circuit.instructionset.InstructionSet at 0x259e6d3ca90>"
      ]
     },
     "execution_count": 4,
     "metadata": {},
     "output_type": "execute_result"
    }
   ],
   "source": [
    "#Declaro y lleno un circuito\n",
    "circuito_exp_19 = QuantumCircuit(1,1) \n",
    "circuito_exp_19.h(0) \n",
    "circuito_exp_19.measure(0,0)"
   ]
  },
  {
   "cell_type": "code",
   "execution_count": 55,
   "metadata": {},
   "outputs": [
    {
     "data": {
      "image/png": "[encoded data removed]",
      "text/plain": [
       "<Figure size 233.576x144.48 with 1 Axes>"
      ]
     },
     "execution_count": 55,
     "metadata": {},
     "output_type": "execute_result"
    }
   ],
   "source": [
    "#Dibujo\n",
    "circuito_exp_19.draw(output= 'mpl')"
   ]
  },
  {
   "cell_type": "code",
   "execution_count": 59,
   "metadata": {},
   "outputs": [
    {
     "name": "stdout",
     "output_type": "stream",
     "text": [
      "Job Status: job has successfully run\n",
      "{'0': 498, '1': 502}\n"
     ]
    }
   ],
   "source": [
    "proveedor = IBMQ.get_provider('ibm-q')\n",
    "comp_cuantico = proveedor.get_backend('ibmq_essex')\n",
    "ejecucion = execute(circuito_exp_19, backend = comp_cuantico, shots=1000)\n",
    "\n",
    "job_monitor(ejecucion)\n",
    "\n",
    "resultado = ejecucion.result() \n",
    "conteos = resultado.get_counts()\n",
    "\n",
    "print(conteos)"
   ]
  },
  {
   "cell_type": "code",
   "execution_count": 60,
   "metadata": {},
   "outputs": [
    {
     "data": {
      "image/png": "[encoded data removed]",
      "text/plain": [
       "<Figure size 504x360 with 1 Axes>"
      ]
     },
     "execution_count": 60,
     "metadata": {},
     "output_type": "execute_result"
    }
   ],
   "source": [
    "plot_histogram(conteos)"
   ]
  },
  {
   "cell_type": "markdown",
   "metadata": {},
   "source": [
    "**Conclusiones 1.9.** Este experimento se ejecutó en el backend **ibmq_essex**. Se esperaba que el 50% de probabilidad fuera del estado $|0\\rangle$ y el otro 50% del estado $|1\\rangle$. Sin embargo: \n",
    "\n",
    "| Estado $|0\\rangle$\t| Estado $|1\\rangle$ \t|\n",
    "|:-:\t|:-:\t|\n",
    "| 0.498\t| 0.502 \t|\n",
    "| 49.8% \t| 50.2% \t|\n",
    "\n",
    "Hubo una diferencia de 0.2% entre los dos estados. A diferencia del ejercicio 1.8 con el computador cuántico el error fue menor. "
   ]
  },
  {
   "cell_type": "markdown",
   "metadata": {},
   "source": [
    "### 2. Suma cuántica"
   ]
  },
  {
   "cell_type": "markdown",
   "metadata": {},
   "source": [
    "Construimos un circuito que es capaz de sumar dos números de 1 bit de longitud."
   ]
  },
  {
   "cell_type": "code",
   "execution_count": 72,
   "metadata": {},
   "outputs": [
    {
     "data": {
      "text/plain": [
       "<qiskit.circuit.instructionset.InstructionSet at 0x21b5c753a00>"
      ]
     },
     "execution_count": 72,
     "metadata": {},
     "output_type": "execute_result"
    }
   ],
   "source": [
    "circuito_suma = QuantumCircuit(4,2)\n",
    "circuito_suma.x(0)\n",
    "circuito_suma.x(1)\n",
    "circuito_suma.barrier()\n",
    "circuito_suma.cx(0,3)\n",
    "circuito_suma.cx(1,3)\n",
    "circuito_suma.ccx(0,1,2)\n",
    "circuito_suma.barrier()\n",
    "circuito_suma.measure(2,0)\n",
    "circuito_suma.measure(3,1)"
   ]
  },
  {
   "cell_type": "code",
   "execution_count": 73,
   "metadata": {},
   "outputs": [
    {
     "data": {
      "image/png": "[encoded data removed]",
      "text/plain": [
       "<Figure size 659.792x325.08 with 1 Axes>"
      ]
     },
     "execution_count": 73,
     "metadata": {},
     "output_type": "execute_result"
    }
   ],
   "source": [
    "circuito_suma.draw(output='mpl')"
   ]
  },
  {
   "cell_type": "code",
   "execution_count": 75,
   "metadata": {},
   "outputs": [
    {
     "name": "stdout",
     "output_type": "stream",
     "text": [
      "Job Status: job has successfully run\n",
      "{'11': 53, '00': 223, '01': 630, '10': 94}\n"
     ]
    }
   ],
   "source": [
    "proveedor = IBMQ.get_provider('ibm-q')\n",
    "comp_cuantico = proveedor.get_backend('ibmq_essex')\n",
    "ejecucion = execute(circuito_suma, backend = comp_cuantico, shots=1000)\n",
    "\n",
    "job_monitor(ejecucion)\n",
    "\n",
    "resultado = ejecucion.result() \n",
    "conteos = resultado.get_counts()\n",
    "\n",
    "print(conteos)"
   ]
  },
  {
   "cell_type": "code",
   "execution_count": 76,
   "metadata": {},
   "outputs": [
    {
     "data": {
      "image/png": "[encoded data removed]",
      "text/plain": [
       "<Figure size 504x360 with 1 Axes>"
      ]
     },
     "execution_count": 76,
     "metadata": {},
     "output_type": "execute_result"
    }
   ],
   "source": [
    "plot_histogram(conteos)"
   ]
  },
  {
   "cell_type": "markdown",
   "metadata": {},
   "source": [
    "**Conclusión.** El resultado con probabilidad mayor de la suma nos dio 10, la cuál es la correcta ya que el cálculo explicito de la suma entre 1 y 1 va a dar 10, el resultado depende de las tablas booleanas XOR & AND. También se ven los diferentes respuestas erroneas que son generadas a factores externos y principalmente a que se generó la respuesta en un computador cuántico. "
   ]
  }
 ],
 "metadata": {
  "kernelspec": {
   "display_name": "Python 3",
   "language": "python",
   "name": "python3"
  },
  "language_info": {
   "codemirror_mode": {
    "name": "ipython",
    "version": 3
   },
   "file_extension": ".py",
   "mimetype": "text/x-python",
   "name": "python",
   "nbconvert_exporter": "python",
   "pygments_lexer": "ipython3",
   "version": "3.8.3"
  }
 },
 "nbformat": 4,
 "nbformat_minor": 4
}
