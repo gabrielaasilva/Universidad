{
 "cells": [
  {
   "cell_type": "markdown",
   "metadata": {},
   "source": [
    "# Laboratorio 3 - CNYT\n",
    "\n",
    "**Ana Gabriela Silva**"
   ]
  },
  {
   "cell_type": "markdown",
   "metadata": {},
   "source": [
    "## Parte 1 - 08/09/2020\n",
    "\n"
   ]
  },
  {
   "cell_type": "markdown",
   "metadata": {},
   "source": [
    "### 1. Estados con 2 qubits.\n",
    "**Ejercicio 1.1.** Crear un circuito con 2 qubits. Inicializar el primer qubit en un estado proporccional al vector:\n",
    "\n",
    "$$ \\begin{bmatrix} 2-3i \\\\ 1+i \\end{bmatrix}$$\n",
    "\n",
    "Inicializar el segundo qubit en un estado proporcional al vector:\n",
    "\n",
    "$$ \\begin{bmatrix} -7+2i \\\\ 9+4i \\end{bmatrix}$$\n",
    "\n",
    "\n",
    "* ¿Qué resultados obtengo si sólo mido el primer qubit?\n",
    "* ¿Qué resultados obtengo si sólo mido el segundo qubit?\n",
    "* ¿Qué pasa cuándo mido ambos qubits y cómo se relaciona este resultado con los dos resultados obtenidos anteriormente?\n",
    "\n"
   ]
  },
  {
   "cell_type": "code",
   "execution_count": 2,
   "metadata": {},
   "outputs": [],
   "source": [
    "#Importación\n",
    "from qiskit import QuantumCircuit #Clase para crear circuitos\n",
    "from qiskit import execute #Función para ejecutar simulaciones o trabajos en computadores cuánticos reales.\n",
    "from qiskit import Aer #Módulo donde encontramos el acceso al simulador\n",
    "from qiskit.visualization import plot_histogram #Visualizador del output como gráfico de barras\n",
    "%matplotlib inline \n",
    "import numpy as np"
   ]
  },
  {
   "cell_type": "code",
   "execution_count": 3,
   "metadata": {},
   "outputs": [
    {
     "name": "stdout",
     "output_type": "stream",
     "text": [
      "3.872983346207417\n",
      "[[0.51639778-0.77459667j]\n",
      " [0.25819889+0.25819889j]]\n"
     ]
    }
   ],
   "source": [
    "#Normalización de vector 1\n",
    "vector = np.array([[2-3j],[1+1j]])\n",
    "#norma\n",
    "norma_vector1 = np. linalg.norm(vector)\n",
    "print(norma_vector1)\n",
    "dividido = vector/norma_vector1\n",
    "#vector normalizado\n",
    "vector1_normalizado = (1/norma_vector1)*vector\n",
    "print(vector1_normalizado)"
   ]
  },
  {
   "cell_type": "code",
   "execution_count": 4,
   "metadata": {},
   "outputs": [
    {
     "name": "stdout",
     "output_type": "stream",
     "text": [
      "12.24744871391589\n",
      "[[-0.57154761+0.16329932j]\n",
      " [ 0.73484692+0.32659863j]]\n"
     ]
    }
   ],
   "source": [
    "#Normalización de vector 2\n",
    "vector2 = np.array([[-7+2j],[9+4j]])\n",
    "#norma\n",
    "norma_vector2 = np. linalg.norm(vector2)\n",
    "print(norma_vector2)\n",
    "dividido = vector/norma_vector2\n",
    "#vector normalizado\n",
    "vector2_normalizado = (1/norma_vector2)*vector2\n",
    "print(vector2_normalizado)"
   ]
  },
  {
   "cell_type": "code",
   "execution_count": 5,
   "metadata": {},
   "outputs": [],
   "source": [
    "q0 = [vector1_normalizado [0][0],vector1_normalizado [1][0]]\n",
    "q1 = [vector2_normalizado [0][0],vector2_normalizado [1][0]]"
   ]
  },
  {
   "cell_type": "code",
   "execution_count": 6,
   "metadata": {
    "scrolled": true
   },
   "outputs": [
    {
     "data": {
      "text/html": [
       "<pre style=\"word-wrap: normal;white-space: pre;background: #fff0;line-height: 1.1;font-family: &quot;Courier New&quot;,Courier,monospace\">      ┌────────────────────────────────────────────┐ ┌─┐\n",
       "q_0: ─┤ initialize(0.5164+-0.7746j,0.2582+0.2582j) ├─┤M├\n",
       "     ┌┴────────────────────────────────────────────┴┐└╥┘\n",
       "q_1: ┤ initialize(-0.57155+0.1633j,0.73485+0.3266j) ├─╫─\n",
       "     └──────────────────────────────────────────────┘ ║ \n",
       "c_0: ═════════════════════════════════════════════════╩═\n",
       "                                                        </pre>"
      ],
      "text/plain": [
       "      ┌────────────────────────────────────────────┐ ┌─┐\n",
       "q_0: ─┤ initialize(0.5164+-0.7746j,0.2582+0.2582j) ├─┤M├\n",
       "     ┌┴────────────────────────────────────────────┴┐└╥┘\n",
       "q_1: ┤ initialize(-0.57155+0.1633j,0.73485+0.3266j) ├─╫─\n",
       "     └──────────────────────────────────────────────┘ ║ \n",
       "c_0: ═════════════════════════════════════════════════╩═\n",
       "                                                        "
      ]
     },
     "execution_count": 6,
     "metadata": {},
     "output_type": "execute_result"
    }
   ],
   "source": [
    "#Declaro y lleno un circuito\n",
    "circuito_1 = QuantumCircuit(2,1)\n",
    "circuito_1.initialize(q0,0)\n",
    "circuito_1.initialize(q1,1)\n",
    "circuito_1.measure(0,0)\n",
    "circuito_1.draw()"
   ]
  },
  {
   "cell_type": "code",
   "execution_count": 7,
   "metadata": {},
   "outputs": [
    {
     "data": {
      "text/html": [
       "<pre style=\"word-wrap: normal;white-space: pre;background: #fff0;line-height: 1.1;font-family: &quot;Courier New&quot;,Courier,monospace\">      ┌────────────────────────────────────────────┐    \n",
       "q_0: ─┤ initialize(0.5164+-0.7746j,0.2582+0.2582j) ├────\n",
       "     ┌┴────────────────────────────────────────────┴┐┌─┐\n",
       "q_1: ┤ initialize(-0.57155+0.1633j,0.73485+0.3266j) ├┤M├\n",
       "     └──────────────────────────────────────────────┘└╥┘\n",
       "c_0: ═════════════════════════════════════════════════╩═\n",
       "                                                        </pre>"
      ],
      "text/plain": [
       "      ┌────────────────────────────────────────────┐    \n",
       "q_0: ─┤ initialize(0.5164+-0.7746j,0.2582+0.2582j) ├────\n",
       "     ┌┴────────────────────────────────────────────┴┐┌─┐\n",
       "q_1: ┤ initialize(-0.57155+0.1633j,0.73485+0.3266j) ├┤M├\n",
       "     └──────────────────────────────────────────────┘└╥┘\n",
       "c_0: ═════════════════════════════════════════════════╩═\n",
       "                                                        "
      ]
     },
     "execution_count": 7,
     "metadata": {},
     "output_type": "execute_result"
    }
   ],
   "source": [
    "circuito_2 = QuantumCircuit(2,1)\n",
    "circuito_2.initialize(q0,0)\n",
    "circuito_2.initialize(q1,1)\n",
    "circuito_2.measure(1,0)\n",
    "circuito_2.draw()"
   ]
  },
  {
   "cell_type": "code",
   "execution_count": 8,
   "metadata": {},
   "outputs": [
    {
     "data": {
      "text/html": [
       "<pre style=\"word-wrap: normal;white-space: pre;background: #fff0;line-height: 1.1;font-family: &quot;Courier New&quot;,Courier,monospace\">      ┌────────────────────────────────────────────┐ ┌─┐   \n",
       "q_0: ─┤ initialize(0.5164+-0.7746j,0.2582+0.2582j) ├─┤M├───\n",
       "     ┌┴────────────────────────────────────────────┴┐└╥┘┌─┐\n",
       "q_1: ┤ initialize(-0.57155+0.1633j,0.73485+0.3266j) ├─╫─┤M├\n",
       "     └──────────────────────────────────────────────┘ ║ └╥┘\n",
       "c_0: ═════════════════════════════════════════════════╩══╬═\n",
       "                                                         ║ \n",
       "c_1: ════════════════════════════════════════════════════╩═\n",
       "                                                           </pre>"
      ],
      "text/plain": [
       "      ┌────────────────────────────────────────────┐ ┌─┐   \n",
       "q_0: ─┤ initialize(0.5164+-0.7746j,0.2582+0.2582j) ├─┤M├───\n",
       "     ┌┴────────────────────────────────────────────┴┐└╥┘┌─┐\n",
       "q_1: ┤ initialize(-0.57155+0.1633j,0.73485+0.3266j) ├─╫─┤M├\n",
       "     └──────────────────────────────────────────────┘ ║ └╥┘\n",
       "c_0: ═════════════════════════════════════════════════╩══╬═\n",
       "                                                         ║ \n",
       "c_1: ════════════════════════════════════════════════════╩═\n",
       "                                                           "
      ]
     },
     "execution_count": 8,
     "metadata": {},
     "output_type": "execute_result"
    }
   ],
   "source": [
    "circuito_3 = QuantumCircuit(2,2)\n",
    "circuito_3.initialize(q0,0)\n",
    "circuito_3.initialize(q1,1)\n",
    "circuito_3.measure(0,0)\n",
    "circuito_3.measure(1,1)\n",
    "\n",
    "circuito_3.draw()"
   ]
  },
  {
   "cell_type": "code",
   "execution_count": 9,
   "metadata": {},
   "outputs": [
    {
     "name": "stdout",
     "output_type": "stream",
     "text": [
      "{'1': 122, '0': 878}\n"
     ]
    },
    {
     "data": {
      "image/png": "[encoded data removed]",
      "text/plain": [
       "<Figure size 504x360 with 1 Axes>"
      ]
     },
     "execution_count": 9,
     "metadata": {},
     "output_type": "execute_result"
    }
   ],
   "source": [
    "#Simulamos una ejecución \n",
    "simulador = Aer.get_backend('qasm_simulator')\n",
    "ejecucion = execute(circuito_1, backend = simulador,shots=1000)\n",
    "resultado = ejecucion.result()\n",
    "conteos1 = resultado.get_counts()\n",
    "print(conteos1)\n",
    "plot_histogram(conteos1)"
   ]
  },
  {
   "cell_type": "code",
   "execution_count": 10,
   "metadata": {},
   "outputs": [
    {
     "name": "stdout",
     "output_type": "stream",
     "text": [
      "{'1': 611, '0': 389}\n"
     ]
    },
    {
     "data": {
      "image/png": "[encoded data removed]",
      "text/plain": [
       "<Figure size 504x360 with 1 Axes>"
      ]
     },
     "execution_count": 10,
     "metadata": {},
     "output_type": "execute_result"
    }
   ],
   "source": [
    "ejecucion = execute(circuito_2, backend = simulador,shots=1000)\n",
    "resultado = ejecucion.result()\n",
    "conteos2 = resultado.get_counts()\n",
    "print(conteos2)\n",
    "plot_histogram(conteos2)"
   ]
  },
  {
   "cell_type": "code",
   "execution_count": 11,
   "metadata": {},
   "outputs": [
    {
     "name": "stdout",
     "output_type": "stream",
     "text": [
      "{'10': 561, '11': 94, '01': 52, '00': 293}\n"
     ]
    },
    {
     "data": {
      "image/png": "[encoded data removed]",
      "text/plain": [
       "<Figure size 504x360 with 1 Axes>"
      ]
     },
     "execution_count": 11,
     "metadata": {},
     "output_type": "execute_result"
    }
   ],
   "source": [
    "ejecucion = execute(circuito_3, backend = simulador,shots=1000)\n",
    "resultado = ejecucion.result()\n",
    "conteos3 = resultado.get_counts()\n",
    "print(conteos3)\n",
    "plot_histogram(conteos3)"
   ]
  },
  {
   "cell_type": "markdown",
   "metadata": {},
   "source": [
    "**Ejercicio 1.2.** Si tu qubit superior está inicializado en el estado:\n",
    "\n",
    "\n",
    " $$ |\\phi\\rangle = \\sqrt{0.15} |0\\rangle + \\sqrt{0.85} |1\\rangle$$\n",
    "\n",
    "\n",
    " Encuentra un estado para inicializar tu qubit inferior de modo que el vector de estado final sea:\n",
    "\n",
    "\n",
    " $$ \\begin{bmatrix} 0.245 \\\\ 0.3 \\\\ 0.583 \\\\ 0.714 \\end{bmatrix}$$"
   ]
  },
  {
   "cell_type": "code",
   "execution_count": 12,
   "metadata": {},
   "outputs": [
    {
     "data": {
      "text/plain": [
       "<qiskit.circuit.instructionset.InstructionSet at 0x1e5ffa3f370>"
      ]
     },
     "execution_count": 12,
     "metadata": {},
     "output_type": "execute_result"
    }
   ],
   "source": [
    "circuito_4 = QuantumCircuit(1)\n",
    "initial_state = [np.sqrt(0.15), np.sqrt(0.85)]\n",
    "circuito_4.initialize(initial_state, 0) \n"
   ]
  },
  {
   "cell_type": "code",
   "execution_count": 13,
   "metadata": {},
   "outputs": [
    {
     "name": "stdout",
     "output_type": "stream",
     "text": [
      "[[0.38729833 0.92195445]]\n"
     ]
    }
   ],
   "source": [
    "qubit_inicial = np.array([\n",
    "    [np.sqrt(0.15), np.sqrt(0.85)]])\n",
    "print(qubit_inicial)"
   ]
  },
  {
   "cell_type": "code",
   "execution_count": 14,
   "metadata": {},
   "outputs": [
    {
     "name": "stdout",
     "output_type": "stream",
     "text": [
      "0.6325872798805448\n",
      "0.6323522845413827\n"
     ]
    }
   ],
   "source": [
    "primera_componente_a = (0.245/np.sqrt(0.15))\n",
    "print(primera_componente_a)\n",
    "primera_componente_b = (0.583/np.sqrt(0.85))\n",
    "print(primera_componente_b)\n",
    "\n",
    "x1 = 0.632"
   ]
  },
  {
   "cell_type": "code",
   "execution_count": 15,
   "metadata": {},
   "outputs": [
    {
     "name": "stdout",
     "output_type": "stream",
     "text": [
      "0.7745966692414833\n",
      "0.7744417344126024\n"
     ]
    }
   ],
   "source": [
    "primera_componente_a = (0.3/np.sqrt(0.15))\n",
    "print(primera_componente_a)\n",
    "primera_componente_b = (0.714/np.sqrt(0.85))\n",
    "print(primera_componente_b)\n",
    "\n",
    "x2 = 0.774"
   ]
  },
  {
   "cell_type": "code",
   "execution_count": 16,
   "metadata": {},
   "outputs": [
    {
     "name": "stdout",
     "output_type": "stream",
     "text": [
      "[[0.632 0.774]]\n"
     ]
    }
   ],
   "source": [
    "estado_final = np.array([[x1,x2]])\n",
    "print(estado_final)"
   ]
  },
  {
   "cell_type": "code",
   "execution_count": 17,
   "metadata": {},
   "outputs": [
    {
     "name": "stdout",
     "output_type": "stream",
     "text": [
      "[[0.24477255 0.29976891 0.58267521 0.71359274]]\n"
     ]
    }
   ],
   "source": [
    "producto_tensorial = np.kron(qubit_inicial,estado_final)\n",
    "print(producto_tensorial)"
   ]
  },
  {
   "cell_type": "markdown",
   "metadata": {},
   "source": [
    "**Conclusión:** para llegar al estado final necesario, se debía conocer como se realiza el producto tensorial para así devolvernos y encontrar el vector para inicializar el qubit anterior. \n",
    "\n",
    "Para llegar a las componentes del vector, se realizaba la división entre la primer posición del estado final sobre el valor inicializado en el estado $|0\\rangle$ o $|1\\rangle$\n"
   ]
  },
  {
   "cell_type": "markdown",
   "metadata": {},
   "source": [
    "**Ejercicio 1.3.** Encuentra un circuito para obtener como estado final el estado entrelazado:\n",
    "\n",
    "\n",
    " $$ |\\Psi^{+}\\rangle = \\frac{1}{\\sqrt{2}} (|01\\rangle + |10\\rangle)$$"
   ]
  },
  {
   "cell_type": "code",
   "execution_count": 90,
   "metadata": {},
   "outputs": [
    {
     "data": {
      "image/png": "[encoded data removed]",
      "text/plain": [
       "<Figure size 780.192x325.08 with 1 Axes>"
      ]
     },
     "execution_count": 90,
     "metadata": {},
     "output_type": "execute_result"
    }
   ],
   "source": [
    "circuito_e = QuantumCircuit(4,2)\n",
    "circuito_e.x(0)\n",
    "circuito_e.h(0)\n",
    "#circuito_e.h(1) -> con otra compuerta h, hace que la estado final no esté repartido solo entre dos estados. \n",
    "circuito_e.x(1)\n",
    "circuito_e.x(2)\n",
    "#circuito_e.x(3)\n",
    "circuito_e.barrier()\n",
    "circuito_e.cx(0,3)\n",
    "circuito_e.cx(1,3)\n",
    "circuito_e.cx(2,3)\n",
    "circuito_e.ccx(0,1,2)\n",
    "circuito_e.barrier()\n",
    "circuito_e.measure(3,1)\n",
    "circuito_e.measure(2,0)\n",
    "\n",
    "circuito_e.draw(output='mpl')"
   ]
  },
  {
   "cell_type": "code",
   "execution_count": 91,
   "metadata": {},
   "outputs": [
    {
     "name": "stdout",
     "output_type": "stream",
     "text": [
      "{'10': 511, '01': 489}\n"
     ]
    },
    {
     "data": {
      "image/png": "[encoded data removed]",
      "text/plain": [
       "<Figure size 504x360 with 1 Axes>"
      ]
     },
     "execution_count": 91,
     "metadata": {},
     "output_type": "execute_result"
    }
   ],
   "source": [
    "ejecucion = execute(circuito_e, backend = simulador,shots=1000)\n",
    "resultado = ejecucion.result()\n",
    "conteos4 = resultado.get_counts()\n",
    "print(conteos4)\n",
    "plot_histogram(conteos4)"
   ]
  },
  {
   "cell_type": "markdown",
   "metadata": {},
   "source": [
    "**Conclusiones:** \n",
    "- Al momento de realizarlo concluí que al poner más de una compuerta h, hace que el estado final no esté repartido solo entre dos estados pedidos.\n",
    "- Al poner solo una compuerta x, los estados finales que va a tomar va a ser 00 y 10, **no son los pedidos.**\n",
    "- Al poner tres una compuerta x, los estados finales que va a tomar va a ser 00 y 10, **no son los pedidos.**\n",
    "- En conclusión con las compuertas x, para llegar a los estados pedidos podemos tomas 2 o 3."
   ]
  },
  {
   "cell_type": "markdown",
   "metadata": {},
   "source": [
    "### 2. Hallar matriz y grafo"
   ]
  },
  {
   "cell_type": "code",
   "execution_count": 20,
   "metadata": {},
   "outputs": [
    {
     "data": {
      "image/png": "[encoded data removed]",
      "text/plain": [
       "<Figure size 238.392x144.48 with 1 Axes>"
      ]
     },
     "execution_count": 20,
     "metadata": {},
     "output_type": "execute_result"
    }
   ],
   "source": [
    "cnot_reves = QuantumCircuit(2)\n",
    "cnot_reves.cx(1,0)\n",
    "cnot_reves.draw(output='mpl')"
   ]
  },
  {
   "cell_type": "markdown",
   "metadata": {},
   "source": [
    "- **Estados:**"
   ]
  },
  {
   "attachments": {},
   "cell_type": "markdown",
   "metadata": {},
   "source": [
    "![./CNYT/ESTADOS.png](./CNYT/ESTADOS.png)"
   ]
  },
  {
   "cell_type": "markdown",
   "metadata": {},
   "source": [
    "- **Grafo:**"
   ]
  },
  {
   "attachments": {},
   "cell_type": "markdown",
   "metadata": {},
   "source": [
    "![./CNYT/GRAFO.png](./CNYT/GRAFO.png)"
   ]
  },
  {
   "cell_type": "markdown",
   "metadata": {},
   "source": [
    "- **Matriz:**"
   ]
  },
  {
   "attachments": {},
   "cell_type": "markdown",
   "metadata": {},
   "source": [
    "![./CNYT/MATRIZ.png](./CNYT/MATRIZ.png)"
   ]
  },
  {
   "cell_type": "markdown",
   "metadata": {},
   "source": [
    "## Parte 2 - 15/09/2020\n"
   ]
  },
  {
   "cell_type": "markdown",
   "metadata": {},
   "source": [
    "### 3. SWAP"
   ]
  },
  {
   "cell_type": "markdown",
   "metadata": {},
   "source": [
    " **3.1 Hallar matriz y grafo de la compuerta SWAP**"
   ]
  },
  {
   "cell_type": "code",
   "execution_count": 21,
   "metadata": {},
   "outputs": [
    {
     "data": {
      "image/png": "[encoded data removed]",
      "text/plain": [
       "<Figure size 238.392x144.48 with 1 Axes>"
      ]
     },
     "execution_count": 21,
     "metadata": {},
     "output_type": "execute_result"
    }
   ],
   "source": [
    "circuitoswap = QuantumCircuit(2)\n",
    "circuitoswap.swap(0,1)\n",
    "\n",
    "circuitoswap.draw(output='mpl')"
   ]
  },
  {
   "cell_type": "code",
   "execution_count": 22,
   "metadata": {},
   "outputs": [
    {
     "data": {
      "image/png": "[encoded data removed]",
      "text/plain": [
       "<Figure size 358.792x144.48 with 1 Axes>"
      ]
     },
     "execution_count": 22,
     "metadata": {},
     "output_type": "execute_result"
    }
   ],
   "source": [
    "circuitoswap_1 = QuantumCircuit(2)\n",
    "circuitoswap_1.cx(0,1)\n",
    "circuitoswap_1.cx(1,0)\n",
    "circuitoswap_1.cx(0,1)\n",
    "\n",
    "circuitoswap_1.draw(output='mpl')"
   ]
  },
  {
   "cell_type": "markdown",
   "metadata": {},
   "source": [
    "- Estados"
   ]
  },
  {
   "attachments": {},
   "cell_type": "markdown",
   "metadata": {},
   "source": [
    "![./CNYT/ESTADOS_SWAP.png](./CNYT/ESTADOS_SWAP.png)\n"
   ]
  },
  {
   "cell_type": "markdown",
   "metadata": {},
   "source": [
    "- Grafo\n"
   ]
  },
  {
   "attachments": {},
   "cell_type": "markdown",
   "metadata": {},
   "source": [
    "![./CNYT/GRAFO_SWAP.png](./CNYT/GRAFO_SWAP.png)"
   ]
  },
  {
   "cell_type": "markdown",
   "metadata": {},
   "source": [
    "- Matriz"
   ]
  },
  {
   "attachments": {},
   "cell_type": "markdown",
   "metadata": {},
   "source": [
    "![./CNYT/MATRIZ_SWAP.png](./CNYT/MATRIZ_SWAP.png)\n"
   ]
  },
  {
   "cell_type": "markdown",
   "metadata": {},
   "source": [
    "**3.2 Cambiar el estado de los alambres**"
   ]
  },
  {
   "cell_type": "code",
   "execution_count": 23,
   "metadata": {},
   "outputs": [
    {
     "data": {
      "image/png": "[encoded data removed]",
      "text/plain": [
       "<Figure size 418.992x264.88 with 1 Axes>"
      ]
     },
     "execution_count": 23,
     "metadata": {},
     "output_type": "execute_result"
    }
   ],
   "source": [
    "cqint = QuantumCircuit(4)\n",
    "cqint.swap(1,3)\n",
    "cqint.swap(0,2)\n",
    "cqint.swap(0,3)\n",
    "cqint.swap(1,2)\n",
    "\n",
    "cqint.draw(output='mpl')"
   ]
  },
  {
   "cell_type": "markdown",
   "metadata": {},
   "source": [
    "+ A --> A --> **C** --> **B** --> B\n",
    "+ B --> **D** --> D --> A --> **D**\n",
    "+ C --> C --> **A** --> D --> **A**\n",
    "+ D --> **B** --> B --> **C** --> C"
   ]
  },
  {
   "cell_type": "markdown",
   "metadata": {},
   "source": [
    "## Test de intercambio (para medir experimentalmente la fidelidad)"
   ]
  },
  {
   "cell_type": "code",
   "execution_count": 24,
   "metadata": {},
   "outputs": [
    {
     "data": {
      "text/plain": [
       "<qiskit.circuit.instructionset.InstructionSet at 0x1e5ffe6db20>"
      ]
     },
     "execution_count": 24,
     "metadata": {},
     "output_type": "execute_result"
    }
   ],
   "source": [
    "co_mas = QuantumCircuit(1,1)\n",
    "co_menos = QuantumCircuit(1,1)\n",
    "co_mas.h(0)\n",
    "co_mas.measure(0,0)\n",
    "co_menos.x(0)\n",
    "co_menos.h(0)\n",
    "co_menos.measure(0,0)"
   ]
  },
  {
   "cell_type": "code",
   "execution_count": 25,
   "metadata": {},
   "outputs": [
    {
     "data": {
      "image/png": "[encoded data removed]",
      "text/plain": [
       "<Figure size 233.576x144.48 with 1 Axes>"
      ]
     },
     "execution_count": 25,
     "metadata": {},
     "output_type": "execute_result"
    }
   ],
   "source": [
    "co_mas.draw(output='mpl')"
   ]
  },
  {
   "cell_type": "code",
   "execution_count": 26,
   "metadata": {},
   "outputs": [
    {
     "data": {
      "image/png": "[encoded data removed]",
      "text/plain": [
       "<Figure size 293.776x144.48 with 1 Axes>"
      ]
     },
     "execution_count": 26,
     "metadata": {},
     "output_type": "execute_result"
    }
   ],
   "source": [
    "co_menos.draw(output='mpl')"
   ]
  },
  {
   "cell_type": "code",
   "execution_count": 27,
   "metadata": {},
   "outputs": [],
   "source": [
    "simulador = Aer.get_backend('qasm_simulator')\n",
    "conteos_mas = execute(co_mas, backend = simulador, shots=1000).result().get_counts()\n",
    "conteos_menos = execute(co_menos, backend = simulador, shots=1000).result().get_counts()"
   ]
  },
  {
   "cell_type": "code",
   "execution_count": 28,
   "metadata": {},
   "outputs": [
    {
     "data": {
      "image/png": "[encoded data removed]",
      "text/plain": [
       "<Figure size 504x360 with 1 Axes>"
      ]
     },
     "execution_count": 28,
     "metadata": {},
     "output_type": "execute_result"
    }
   ],
   "source": [
    "plot_histogram(conteos_mas)"
   ]
  },
  {
   "cell_type": "code",
   "execution_count": 29,
   "metadata": {},
   "outputs": [
    {
     "data": {
      "image/png": "[encoded data removed]",
      "text/plain": [
       "<Figure size 504x360 with 1 Axes>"
      ]
     },
     "execution_count": 29,
     "metadata": {},
     "output_type": "execute_result"
    }
   ],
   "source": [
    "plot_histogram(conteos_menos)"
   ]
  },
  {
   "cell_type": "code",
   "execution_count": 30,
   "metadata": {},
   "outputs": [],
   "source": [
    "def fidelidad(v1,v2):\n",
    "    '''\n",
    "    Esta función recibe 2 vectores complejos y retorna el cuadrado del módulo de su producto interno \n",
    "    '''\n",
    "    \n",
    "    return np.abs(np.vdot(v1,v2))**2"
   ]
  },
  {
   "cell_type": "markdown",
   "metadata": {},
   "source": [
    "- Fidelidad : 0"
   ]
  },
  {
   "cell_type": "code",
   "execution_count": 31,
   "metadata": {},
   "outputs": [
    {
     "data": {
      "text/plain": [
       "0.0"
      ]
     },
     "execution_count": 31,
     "metadata": {},
     "output_type": "execute_result"
    }
   ],
   "source": [
    "v_mas = np.array([[1/np.sqrt(2)],[1/np.sqrt(2)]])\n",
    "v_menos = np.array([[1/np.sqrt(2)],[-1/np.sqrt(2)]])\n",
    "\n",
    "fidelidad(v_mas,v_menos)"
   ]
  },
  {
   "cell_type": "code",
   "execution_count": 32,
   "metadata": {},
   "outputs": [
    {
     "data": {
      "image/png": "[encoded data removed]",
      "text/plain": [
       "<Figure size 599.592x264.88 with 1 Axes>"
      ]
     },
     "execution_count": 32,
     "metadata": {},
     "output_type": "execute_result"
    }
   ],
   "source": [
    "#Que pasa si yo hago el test de intercambio aplicado a mis estados |+> y |->?\n",
    "\n",
    "cqtest= QuantumCircuit(3,1)\n",
    "cqtest.h(0)\n",
    "cqtest.x(1)\n",
    "cqtest.h(1)\n",
    "cqtest.barrier()\n",
    "cqtest.h(2)\n",
    "cqtest.cswap(2,1,0)\n",
    "cqtest.h(2)\n",
    "cqtest.measure(2,0)\n",
    "\n",
    "cqtest.draw(output='mpl')"
   ]
  },
  {
   "cell_type": "code",
   "execution_count": 33,
   "metadata": {},
   "outputs": [
    {
     "data": {
      "image/png": "[encoded data removed]",
      "text/plain": [
       "<Figure size 504x360 with 1 Axes>"
      ]
     },
     "execution_count": 33,
     "metadata": {},
     "output_type": "execute_result"
    }
   ],
   "source": [
    "simulador = Aer.get_backend('qasm_simulator')\n",
    "conteos_test = execute(cqtest, backend = simulador,shots=1000).result().get_counts()\n",
    "plot_histogram(conteos_test)"
   ]
  },
  {
   "cell_type": "markdown",
   "metadata": {},
   "source": [
    "- Fidelidad = 0.1"
   ]
  },
  {
   "cell_type": "code",
   "execution_count": 34,
   "metadata": {},
   "outputs": [
    {
     "name": "stdout",
     "output_type": "stream",
     "text": [
      "[[0.2313105-0.85584885j]\n",
      " [0.       +0.462621j  ]]\n"
     ]
    }
   ],
   "source": [
    "estado_variable_5= ([[1-3.7j],[0+2j]])\n",
    "norma_5 = np.linalg.norm(estado_variable_5)\n",
    "ev_norm_5 = estado_variable_5/norma_5\n",
    "\n",
    "print(ev_norm_5)"
   ]
  },
  {
   "cell_type": "code",
   "execution_count": 35,
   "metadata": {},
   "outputs": [
    {
     "data": {
      "text/plain": [
       "0.10406634563937936"
      ]
     },
     "execution_count": 35,
     "metadata": {},
     "output_type": "execute_result"
    }
   ],
   "source": [
    "fidelidad(v_mas,ev_norm_5)"
   ]
  },
  {
   "cell_type": "code",
   "execution_count": 41,
   "metadata": {},
   "outputs": [
    {
     "data": {
      "text/html": [
       "<pre style=\"word-wrap: normal;white-space: pre;background: #fff0;line-height: 1.1;font-family: &quot;Courier New&quot;,Courier,monospace\">          ┌─────────────────────────────┐       ░                 \n",
       "q_0: ─────┤ initialize(0.70711,0.70711) ├───────░───────X─────────\n",
       "     ┌────┴─────────────────────────────┴─────┐ ░       │         \n",
       "q_1: ┤ initialize(0.23131+-0.85585j,0.46262j) ├─░───────X─────────\n",
       "     └────────────────────────────────────────┘ ░ ┌───┐ │ ┌───┐┌─┐\n",
       "q_2: ───────────────────────────────────────────░─┤ H ├─■─┤ H ├┤M├\n",
       "                                                ░ └───┘   └───┘└╥┘\n",
       "c_0: ═══════════════════════════════════════════════════════════╩═\n",
       "                                                                  </pre>"
      ],
      "text/plain": [
       "          ┌─────────────────────────────┐       ░                 \n",
       "q_0: ─────┤ initialize(0.70711,0.70711) ├───────░───────X─────────\n",
       "     ┌────┴─────────────────────────────┴─────┐ ░       │         \n",
       "q_1: ┤ initialize(0.23131+-0.85585j,0.46262j) ├─░───────X─────────\n",
       "     └────────────────────────────────────────┘ ░ ┌───┐ │ ┌───┐┌─┐\n",
       "q_2: ───────────────────────────────────────────░─┤ H ├─■─┤ H ├┤M├\n",
       "                                                ░ └───┘   └───┘└╥┘\n",
       "c_0: ═══════════════════════════════════════════════════════════╩═\n",
       "                                                                  "
      ]
     },
     "execution_count": 41,
     "metadata": {},
     "output_type": "execute_result"
    }
   ],
   "source": [
    "estado5_q0 = [v_mas[0][0],v_mas[1][0]]\n",
    "estado5_q1 = [ev_norm_5[0][0],ev_norm_5[1][0]]\n",
    "\n",
    "estado_variable_5= QuantumCircuit(3,1)\n",
    "estado_variable_5.initialize(estado5_q0,0)\n",
    "estado_variable_5.initialize(estado5_q1,1)\n",
    "estado_variable_5.barrier()\n",
    "estado_variable_5.h(2)\n",
    "estado_variable_5.cswap(2,1,0)\n",
    "estado_variable_5.h(2)\n",
    "estado_variable_5.measure(2,0)\n",
    "\n",
    "estado_variable_5.draw('text')"
   ]
  },
  {
   "cell_type": "code",
   "execution_count": 42,
   "metadata": {},
   "outputs": [
    {
     "data": {
      "image/png": "[encoded data removed]",
      "text/plain": [
       "<Figure size 504x360 with 1 Axes>"
      ]
     },
     "execution_count": 42,
     "metadata": {},
     "output_type": "execute_result"
    }
   ],
   "source": [
    "conteos5 = execute(estado_variable_5, backend = simulador,shots=1000).result().get_counts()\n",
    "plot_histogram(conteos5)"
   ]
  },
  {
   "cell_type": "markdown",
   "metadata": {},
   "source": [
    "- Fidelidad = 0.2"
   ]
  },
  {
   "cell_type": "code",
   "execution_count": 43,
   "metadata": {},
   "outputs": [],
   "source": [
    "estado_variable_4 = np.array([[1-7.5j],[2+3j]])\n",
    "norma_4 = np.linalg.norm(estado_variable_4)\n",
    "ev_norm_4 = 1/norma_4 *estado_variable_4"
   ]
  },
  {
   "cell_type": "code",
   "execution_count": 44,
   "metadata": {},
   "outputs": [
    {
     "data": {
      "text/plain": [
       "0.20818505338078286"
      ]
     },
     "execution_count": 44,
     "metadata": {},
     "output_type": "execute_result"
    }
   ],
   "source": [
    "fidelidad(v_mas,ev_norm_4)"
   ]
  },
  {
   "cell_type": "code",
   "execution_count": 45,
   "metadata": {},
   "outputs": [
    {
     "data": {
      "text/html": [
       "<pre style=\"word-wrap: normal;white-space: pre;background: #fff0;line-height: 1.1;font-family: &quot;Courier New&quot;,Courier,monospace\">              ┌─────────────────────────────┐           ░                 \n",
       "q_0: ─────────┤ initialize(0.70711,0.70711) ├───────────░───────X─────────\n",
       "     ┌────────┴─────────────────────────────┴─────────┐ ░       │         \n",
       "q_1: ┤ initialize(0.11931+-0.89482j,0.23862+0.35793j) ├─░───────X─────────\n",
       "     └────────────────────────────────────────────────┘ ░ ┌───┐ │ ┌───┐┌─┐\n",
       "q_2: ───────────────────────────────────────────────────░─┤ H ├─■─┤ H ├┤M├\n",
       "                                                        ░ └───┘   └───┘└╥┘\n",
       "c_0: ═══════════════════════════════════════════════════════════════════╩═\n",
       "                                                                          </pre>"
      ],
      "text/plain": [
       "              ┌─────────────────────────────┐           ░                 \n",
       "q_0: ─────────┤ initialize(0.70711,0.70711) ├───────────░───────X─────────\n",
       "     ┌────────┴─────────────────────────────┴─────────┐ ░       │         \n",
       "q_1: ┤ initialize(0.11931+-0.89482j,0.23862+0.35793j) ├─░───────X─────────\n",
       "     └────────────────────────────────────────────────┘ ░ ┌───┐ │ ┌───┐┌─┐\n",
       "q_2: ───────────────────────────────────────────────────░─┤ H ├─■─┤ H ├┤M├\n",
       "                                                        ░ └───┘   └───┘└╥┘\n",
       "c_0: ═══════════════════════════════════════════════════════════════════╩═\n",
       "                                                                          "
      ]
     },
     "execution_count": 45,
     "metadata": {},
     "output_type": "execute_result"
    }
   ],
   "source": [
    "estado4_q0 = [v_mas[0][0],v_mas[1][0]]\n",
    "estado4_q1 = [ev_norm_4[0][0],ev_norm_4[1][0]]\n",
    "\n",
    "estado_variable_4 = QuantumCircuit(3,1)\n",
    "estado_variable_4.initialize(estado4_q0,0)\n",
    "estado_variable_4.initialize(estado4_q1,1)\n",
    "estado_variable_4.barrier()\n",
    "estado_variable_4.h(2)\n",
    "estado_variable_4.cswap(2,1,0)\n",
    "estado_variable_4.h(2)\n",
    "estado_variable_4.measure(2,0)\n",
    "\n",
    "estado_variable_4.draw('text')"
   ]
  },
  {
   "cell_type": "code",
   "execution_count": 46,
   "metadata": {},
   "outputs": [
    {
     "data": {
      "image/png": "[encoded data removed]",
      "text/plain": [
       "<Figure size 504x360 with 1 Axes>"
      ]
     },
     "execution_count": 46,
     "metadata": {},
     "output_type": "execute_result"
    }
   ],
   "source": [
    "conteos4 = execute(estado_variable_4, backend = simulador,shots=1000).result().get_counts()\n",
    "plot_histogram(conteos4)"
   ]
  },
  {
   "cell_type": "markdown",
   "metadata": {},
   "source": [
    "- Fidelidad = 0.3"
   ]
  },
  {
   "cell_type": "code",
   "execution_count": 47,
   "metadata": {},
   "outputs": [],
   "source": [
    "estado_variable_6= np.array([[1-7.5j],[5+3j]])\n",
    "norma_6 = np.linalg.norm(estado_variable_6)\n",
    "ev_norm_6 = 1/norma_6 *estado_variable_6"
   ]
  },
  {
   "cell_type": "code",
   "execution_count": 48,
   "metadata": {},
   "outputs": [
    {
     "data": {
      "text/plain": [
       "0.3082191780821917"
      ]
     },
     "execution_count": 48,
     "metadata": {},
     "output_type": "execute_result"
    }
   ],
   "source": [
    "fidelidad(v_mas,ev_norm_6)"
   ]
  },
  {
   "cell_type": "code",
   "execution_count": 49,
   "metadata": {},
   "outputs": [
    {
     "data": {
      "text/html": [
       "<pre style=\"word-wrap: normal;white-space: pre;background: #fff0;line-height: 1.1;font-family: &quot;Courier New&quot;,Courier,monospace\">              ┌─────────────────────────────┐           ░                 \n",
       "q_0: ─────────┤ initialize(0.70711,0.70711) ├───────────░───────X─────────\n",
       "     ┌────────┴─────────────────────────────┴─────────┐ ░       │         \n",
       "q_1: ┤ initialize(0.10468+-0.78514j,0.52342+0.31405j) ├─░───────X─────────\n",
       "     └────────────────────────────────────────────────┘ ░ ┌───┐ │ ┌───┐┌─┐\n",
       "q_2: ───────────────────────────────────────────────────░─┤ H ├─■─┤ H ├┤M├\n",
       "                                                        ░ └───┘   └───┘└╥┘\n",
       "c_0: ═══════════════════════════════════════════════════════════════════╩═\n",
       "                                                                          </pre>"
      ],
      "text/plain": [
       "              ┌─────────────────────────────┐           ░                 \n",
       "q_0: ─────────┤ initialize(0.70711,0.70711) ├───────────░───────X─────────\n",
       "     ┌────────┴─────────────────────────────┴─────────┐ ░       │         \n",
       "q_1: ┤ initialize(0.10468+-0.78514j,0.52342+0.31405j) ├─░───────X─────────\n",
       "     └────────────────────────────────────────────────┘ ░ ┌───┐ │ ┌───┐┌─┐\n",
       "q_2: ───────────────────────────────────────────────────░─┤ H ├─■─┤ H ├┤M├\n",
       "                                                        ░ └───┘   └───┘└╥┘\n",
       "c_0: ═══════════════════════════════════════════════════════════════════╩═\n",
       "                                                                          "
      ]
     },
     "execution_count": 49,
     "metadata": {},
     "output_type": "execute_result"
    }
   ],
   "source": [
    "estado6_q0 = [v_mas[0][0],v_mas[1][0]]\n",
    "estado6_q1 = [ev_norm_6[0][0],ev_norm_6[1][0]]\n",
    "\n",
    "estado_variable_6 = QuantumCircuit(3,1)\n",
    "estado_variable_6.initialize(estado6_q0,0)\n",
    "estado_variable_6.initialize(estado6_q1,1)\n",
    "estado_variable_6.barrier()\n",
    "estado_variable_6.h(2)\n",
    "estado_variable_6.cswap(2,1,0)\n",
    "estado_variable_6.h(2)\n",
    "estado_variable_6.measure(2,0)\n",
    "\n",
    "estado_variable_6.draw('text')"
   ]
  },
  {
   "cell_type": "code",
   "execution_count": 50,
   "metadata": {},
   "outputs": [
    {
     "data": {
      "image/png": "[encoded data removed]",
      "text/plain": [
       "<Figure size 504x360 with 1 Axes>"
      ]
     },
     "execution_count": 50,
     "metadata": {},
     "output_type": "execute_result"
    }
   ],
   "source": [
    "conteos6 = execute(estado_variable_6, backend = simulador,shots=1000).result().get_counts()\n",
    "plot_histogram(conteos6)"
   ]
  },
  {
   "cell_type": "markdown",
   "metadata": {},
   "source": [
    "- Fidelidad : 0.4"
   ]
  },
  {
   "cell_type": "code",
   "execution_count": 51,
   "metadata": {},
   "outputs": [],
   "source": [
    "estado_variable_1 = np.array([[3-2.5j],[0.5+1.28j]])\n",
    "norma_1 = np.linalg.norm(estado_variable_1)\n",
    "ev_norm_1 = 1/norma_1 *estado_variable_1 "
   ]
  },
  {
   "cell_type": "code",
   "execution_count": 52,
   "metadata": {},
   "outputs": [
    {
     "data": {
      "text/plain": [
       "array([[0.72466305-0.60388587j],\n",
       "       [0.12077717+0.30918957j]])"
      ]
     },
     "execution_count": 52,
     "metadata": {},
     "output_type": "execute_result"
    }
   ],
   "source": [
    "ev_norm_1"
   ]
  },
  {
   "cell_type": "code",
   "execution_count": 53,
   "metadata": {},
   "outputs": [
    {
     "data": {
      "text/plain": [
       "0.40080754329458984"
      ]
     },
     "execution_count": 53,
     "metadata": {},
     "output_type": "execute_result"
    }
   ],
   "source": [
    "fidelidad(v_mas,ev_norm_1)"
   ]
  },
  {
   "cell_type": "code",
   "execution_count": 54,
   "metadata": {},
   "outputs": [
    {
     "data": {
      "text/html": [
       "<pre style=\"word-wrap: normal;white-space: pre;background: #fff0;line-height: 1.1;font-family: &quot;Courier New&quot;,Courier,monospace\">              ┌─────────────────────────────┐           ░                 \n",
       "q_0: ─────────┤ initialize(0.70711,0.70711) ├───────────░───────X─────────\n",
       "     ┌────────┴─────────────────────────────┴─────────┐ ░       │         \n",
       "q_1: ┤ initialize(0.72466+-0.60389j,0.12078+0.30919j) ├─░───────X─────────\n",
       "     └────────────────────────────────────────────────┘ ░ ┌───┐ │ ┌───┐┌─┐\n",
       "q_2: ───────────────────────────────────────────────────░─┤ H ├─■─┤ H ├┤M├\n",
       "                                                        ░ └───┘   └───┘└╥┘\n",
       "c_0: ═══════════════════════════════════════════════════════════════════╩═\n",
       "                                                                          </pre>"
      ],
      "text/plain": [
       "              ┌─────────────────────────────┐           ░                 \n",
       "q_0: ─────────┤ initialize(0.70711,0.70711) ├───────────░───────X─────────\n",
       "     ┌────────┴─────────────────────────────┴─────────┐ ░       │         \n",
       "q_1: ┤ initialize(0.72466+-0.60389j,0.12078+0.30919j) ├─░───────X─────────\n",
       "     └────────────────────────────────────────────────┘ ░ ┌───┐ │ ┌───┐┌─┐\n",
       "q_2: ───────────────────────────────────────────────────░─┤ H ├─■─┤ H ├┤M├\n",
       "                                                        ░ └───┘   └───┘└╥┘\n",
       "c_0: ═══════════════════════════════════════════════════════════════════╩═\n",
       "                                                                          "
      ]
     },
     "execution_count": 54,
     "metadata": {},
     "output_type": "execute_result"
    }
   ],
   "source": [
    "estado1_q0 = [v_mas[0][0],v_mas[1][0]]\n",
    "estado1_q1 = [ev_norm_1[0][0],ev_norm_1[1][0]]\n",
    "\n",
    "estado_variable_1 = QuantumCircuit(3,1)\n",
    "estado_variable_1.initialize(estado1_q0,0)\n",
    "estado_variable_1.initialize(estado1_q1,1)\n",
    "estado_variable_1.barrier()\n",
    "estado_variable_1.h(2)\n",
    "estado_variable_1.cswap(2,1,0)\n",
    "estado_variable_1.h(2)\n",
    "estado_variable_1.measure(2,0)\n",
    "\n",
    "estado_variable_1.draw('text')"
   ]
  },
  {
   "cell_type": "code",
   "execution_count": 55,
   "metadata": {},
   "outputs": [
    {
     "data": {
      "image/png": "[encoded data removed]",
      "text/plain": [
       "<Figure size 504x360 with 1 Axes>"
      ]
     },
     "execution_count": 55,
     "metadata": {},
     "output_type": "execute_result"
    }
   ],
   "source": [
    "conteos1 = execute(estado_variable_1, backend = simulador,shots=1000).result().get_counts()\n",
    "plot_histogram(conteos1)"
   ]
  },
  {
   "cell_type": "markdown",
   "metadata": {},
   "source": [
    "- Fidelidad = 0.5"
   ]
  },
  {
   "cell_type": "code",
   "execution_count": 56,
   "metadata": {},
   "outputs": [],
   "source": [
    "estado_variable_2 = np.array([[3-2j],[1+1.50j]])\n",
    "norma_2 = np.linalg.norm(estado_variable_2)\n",
    "ev_norm_2 = 1/norma_2 *estado_variable_2"
   ]
  },
  {
   "cell_type": "code",
   "execution_count": 57,
   "metadata": {},
   "outputs": [
    {
     "data": {
      "text/plain": [
       "0.5000000000000001"
      ]
     },
     "execution_count": 57,
     "metadata": {},
     "output_type": "execute_result"
    }
   ],
   "source": [
    "fidelidad(v_mas,ev_norm_2)"
   ]
  },
  {
   "cell_type": "code",
   "execution_count": 58,
   "metadata": {},
   "outputs": [
    {
     "data": {
      "text/html": [
       "<pre style=\"word-wrap: normal;white-space: pre;background: #fff0;line-height: 1.1;font-family: &quot;Courier New&quot;,Courier,monospace\">              ┌─────────────────────────────┐          ░                 \n",
       "q_0: ─────────┤ initialize(0.70711,0.70711) ├──────────░───────X─────────\n",
       "     ┌────────┴─────────────────────────────┴────────┐ ░       │         \n",
       "q_1: ┤ initialize(0.74421+-0.49614j,0.24807+0.3721j) ├─░───────X─────────\n",
       "     └───────────────────────────────────────────────┘ ░ ┌───┐ │ ┌───┐┌─┐\n",
       "q_2: ──────────────────────────────────────────────────░─┤ H ├─■─┤ H ├┤M├\n",
       "                                                       ░ └───┘   └───┘└╥┘\n",
       "c_0: ══════════════════════════════════════════════════════════════════╩═\n",
       "                                                                         </pre>"
      ],
      "text/plain": [
       "              ┌─────────────────────────────┐          ░                 \n",
       "q_0: ─────────┤ initialize(0.70711,0.70711) ├──────────░───────X─────────\n",
       "     ┌────────┴─────────────────────────────┴────────┐ ░       │         \n",
       "q_1: ┤ initialize(0.74421+-0.49614j,0.24807+0.3721j) ├─░───────X─────────\n",
       "     └───────────────────────────────────────────────┘ ░ ┌───┐ │ ┌───┐┌─┐\n",
       "q_2: ──────────────────────────────────────────────────░─┤ H ├─■─┤ H ├┤M├\n",
       "                                                       ░ └───┘   └───┘└╥┘\n",
       "c_0: ══════════════════════════════════════════════════════════════════╩═\n",
       "                                                                         "
      ]
     },
     "execution_count": 58,
     "metadata": {},
     "output_type": "execute_result"
    }
   ],
   "source": [
    "estado2_q0 = [v_mas[0][0],v_mas[1][0]]\n",
    "estado2_q1 = [ev_norm_2[0][0],ev_norm_2[1][0]]\n",
    "\n",
    "estado_variable_2 = QuantumCircuit(3,1)\n",
    "estado_variable_2.initialize(estado2_q0,0)\n",
    "estado_variable_2.initialize(estado2_q1,1)\n",
    "estado_variable_2.barrier()\n",
    "estado_variable_2.h(2)\n",
    "estado_variable_2.cswap(2,1,0)\n",
    "estado_variable_2.h(2)\n",
    "estado_variable_2.measure(2,0)\n",
    "\n",
    "\n",
    "estado_variable_2.draw('text')"
   ]
  },
  {
   "cell_type": "code",
   "execution_count": 59,
   "metadata": {},
   "outputs": [
    {
     "data": {
      "image/png": "[encoded data removed]",
      "text/plain": [
       "<Figure size 504x360 with 1 Axes>"
      ]
     },
     "execution_count": 59,
     "metadata": {},
     "output_type": "execute_result"
    }
   ],
   "source": [
    "conteos2 = execute(estado_variable_2, backend = simulador,shots=1000).result().get_counts()\n",
    "plot_histogram(conteos2)"
   ]
  },
  {
   "cell_type": "markdown",
   "metadata": {},
   "source": [
    "- Fidelidad = 0.6"
   ]
  },
  {
   "cell_type": "code",
   "execution_count": 60,
   "metadata": {},
   "outputs": [],
   "source": [
    "estado_variable_7= np.array([[3-7j],[6+1.2j]])\n",
    "norma_7 = np.linalg.norm(estado_variable_7)\n",
    "ev_norm_7 = 1/norma_7 *estado_variable_7"
   ]
  },
  {
   "cell_type": "code",
   "execution_count": 61,
   "metadata": {},
   "outputs": [
    {
     "data": {
      "text/plain": [
       "0.6005867560771163"
      ]
     },
     "execution_count": 61,
     "metadata": {},
     "output_type": "execute_result"
    }
   ],
   "source": [
    "fidelidad(v_mas,ev_norm_7)"
   ]
  },
  {
   "cell_type": "code",
   "execution_count": 62,
   "metadata": {},
   "outputs": [
    {
     "data": {
      "text/html": [
       "<pre style=\"word-wrap: normal;white-space: pre;background: #fff0;line-height: 1.1;font-family: &quot;Courier New&quot;,Courier,monospace\">              ┌─────────────────────────────┐           ░                 \n",
       "q_0: ─────────┤ initialize(0.70711,0.70711) ├───────────░───────X─────────\n",
       "     ┌────────┴─────────────────────────────┴─────────┐ ░       │         \n",
       "q_1: ┤ initialize(0.30708+-0.71653j,0.61417+0.12283j) ├─░───────X─────────\n",
       "     └────────────────────────────────────────────────┘ ░ ┌───┐ │ ┌───┐┌─┐\n",
       "q_2: ───────────────────────────────────────────────────░─┤ H ├─■─┤ H ├┤M├\n",
       "                                                        ░ └───┘   └───┘└╥┘\n",
       "c_0: ═══════════════════════════════════════════════════════════════════╩═\n",
       "                                                                          </pre>"
      ],
      "text/plain": [
       "              ┌─────────────────────────────┐           ░                 \n",
       "q_0: ─────────┤ initialize(0.70711,0.70711) ├───────────░───────X─────────\n",
       "     ┌────────┴─────────────────────────────┴─────────┐ ░       │         \n",
       "q_1: ┤ initialize(0.30708+-0.71653j,0.61417+0.12283j) ├─░───────X─────────\n",
       "     └────────────────────────────────────────────────┘ ░ ┌───┐ │ ┌───┐┌─┐\n",
       "q_2: ───────────────────────────────────────────────────░─┤ H ├─■─┤ H ├┤M├\n",
       "                                                        ░ └───┘   └───┘└╥┘\n",
       "c_0: ═══════════════════════════════════════════════════════════════════╩═\n",
       "                                                                          "
      ]
     },
     "execution_count": 62,
     "metadata": {},
     "output_type": "execute_result"
    }
   ],
   "source": [
    "estado7_q0 = [v_mas[0][0],v_mas[1][0]]\n",
    "estado7_q1 = [ev_norm_7[0][0],ev_norm_7[1][0]]\n",
    "\n",
    "estado_variable_7 = QuantumCircuit(3,1)\n",
    "estado_variable_7.initialize(estado7_q0,0)\n",
    "estado_variable_7.initialize(estado7_q1,1)\n",
    "estado_variable_7.barrier()\n",
    "estado_variable_7.h(2)\n",
    "estado_variable_7.cswap(2,1,0)\n",
    "estado_variable_7.h(2)\n",
    "estado_variable_7.measure(2,0)\n",
    "\n",
    "estado_variable_7.draw('text')"
   ]
  },
  {
   "cell_type": "code",
   "execution_count": 63,
   "metadata": {},
   "outputs": [
    {
     "data": {
      "image/png": "[encoded data removed]",
      "text/plain": [
       "<Figure size 504x360 with 1 Axes>"
      ]
     },
     "execution_count": 63,
     "metadata": {},
     "output_type": "execute_result"
    }
   ],
   "source": [
    "conteos7 = execute(estado_variable_7, backend = simulador,shots=1000).result().get_counts()\n",
    "plot_histogram(conteos7)"
   ]
  },
  {
   "cell_type": "markdown",
   "metadata": {},
   "source": [
    "- Fidelidad = 0.7"
   ]
  },
  {
   "cell_type": "code",
   "execution_count": 64,
   "metadata": {},
   "outputs": [],
   "source": [
    "estado_variable_8= np.array([[8-8.5j],[6+1.5j]])\n",
    "norma_8 = np.linalg.norm(estado_variable_8)\n",
    "ev_norm_8 = 1/norma_8 *estado_variable_8"
   ]
  },
  {
   "cell_type": "code",
   "execution_count": 65,
   "metadata": {},
   "outputs": [
    {
     "data": {
      "text/plain": [
       "0.7020057306590256"
      ]
     },
     "execution_count": 65,
     "metadata": {},
     "output_type": "execute_result"
    }
   ],
   "source": [
    "fidelidad(v_mas,ev_norm_8)"
   ]
  },
  {
   "cell_type": "code",
   "execution_count": 66,
   "metadata": {},
   "outputs": [
    {
     "data": {
      "text/html": [
       "<pre style=\"word-wrap: normal;white-space: pre;background: #fff0;line-height: 1.1;font-family: &quot;Courier New&quot;,Courier,monospace\">              ┌─────────────────────────────┐           ░                 \n",
       "q_0: ─────────┤ initialize(0.70711,0.70711) ├───────────░───────X─────────\n",
       "     ┌────────┴─────────────────────────────┴─────────┐ ░       │         \n",
       "q_1: ┤ initialize(0.60561+-0.64346j,0.45421+0.11355j) ├─░───────X─────────\n",
       "     └────────────────────────────────────────────────┘ ░ ┌───┐ │ ┌───┐┌─┐\n",
       "q_2: ───────────────────────────────────────────────────░─┤ H ├─■─┤ H ├┤M├\n",
       "                                                        ░ └───┘   └───┘└╥┘\n",
       "c_0: ═══════════════════════════════════════════════════════════════════╩═\n",
       "                                                                          </pre>"
      ],
      "text/plain": [
       "              ┌─────────────────────────────┐           ░                 \n",
       "q_0: ─────────┤ initialize(0.70711,0.70711) ├───────────░───────X─────────\n",
       "     ┌────────┴─────────────────────────────┴─────────┐ ░       │         \n",
       "q_1: ┤ initialize(0.60561+-0.64346j,0.45421+0.11355j) ├─░───────X─────────\n",
       "     └────────────────────────────────────────────────┘ ░ ┌───┐ │ ┌───┐┌─┐\n",
       "q_2: ───────────────────────────────────────────────────░─┤ H ├─■─┤ H ├┤M├\n",
       "                                                        ░ └───┘   └───┘└╥┘\n",
       "c_0: ═══════════════════════════════════════════════════════════════════╩═\n",
       "                                                                          "
      ]
     },
     "execution_count": 66,
     "metadata": {},
     "output_type": "execute_result"
    }
   ],
   "source": [
    "estado8_q0 = [v_mas[0][0],v_mas[1][0]]\n",
    "estado8_q1 = [ev_norm_8[0][0],ev_norm_8[1][0]]\n",
    "\n",
    "estado_variable_8 = QuantumCircuit(3,1)\n",
    "estado_variable_8.initialize(estado8_q0,0)\n",
    "estado_variable_8.initialize(estado8_q1,1)\n",
    "estado_variable_8.barrier()\n",
    "estado_variable_8.h(2)\n",
    "estado_variable_8.cswap(2,1,0)\n",
    "estado_variable_8.h(2)\n",
    "estado_variable_8.measure(2,0)\n",
    "\n",
    "estado_variable_8.draw('text')"
   ]
  },
  {
   "cell_type": "code",
   "execution_count": 67,
   "metadata": {},
   "outputs": [
    {
     "data": {
      "image/png": "[encoded data removed]",
      "text/plain": [
       "<Figure size 504x360 with 1 Axes>"
      ]
     },
     "execution_count": 67,
     "metadata": {},
     "output_type": "execute_result"
    }
   ],
   "source": [
    "conteos8 = execute(estado_variable_8, backend = simulador,shots=1000).result().get_counts()\n",
    "plot_histogram(conteos8)"
   ]
  },
  {
   "cell_type": "markdown",
   "metadata": {},
   "source": [
    "- Fidelidad = 0.8"
   ]
  },
  {
   "cell_type": "code",
   "execution_count": 68,
   "metadata": {},
   "outputs": [],
   "source": [
    "estado_variable_3 = np.array([[3-2j],[4+1j]])\n",
    "norma_3 = np.linalg.norm(estado_variable_3)\n",
    "ev_norm_3 = 1/norma_3 *estado_variable_3"
   ]
  },
  {
   "cell_type": "code",
   "execution_count": 69,
   "metadata": {},
   "outputs": [
    {
     "data": {
      "text/plain": [
       "0.8333333333333333"
      ]
     },
     "execution_count": 69,
     "metadata": {},
     "output_type": "execute_result"
    }
   ],
   "source": [
    "fidelidad(v_mas,ev_norm_3)"
   ]
  },
  {
   "cell_type": "code",
   "execution_count": 80,
   "metadata": {},
   "outputs": [
    {
     "data": {
      "text/html": [
       "<pre style=\"word-wrap: normal;white-space: pre;background: #fff0;line-height: 1.1;font-family: &quot;Courier New&quot;,Courier,monospace\">              ┌─────────────────────────────┐          ░                 \n",
       "q_0: ─────────┤ initialize(0.70711,0.70711) ├──────────░───────X─────────\n",
       "     ┌────────┴─────────────────────────────┴────────┐ ░       │         \n",
       "q_1: ┤ initialize(0.54772+-0.36515j,0.7303+0.18257j) ├─░───────X─────────\n",
       "     └───────────────────────────────────────────────┘ ░ ┌───┐ │ ┌───┐┌─┐\n",
       "q_2: ──────────────────────────────────────────────────░─┤ H ├─■─┤ H ├┤M├\n",
       "                                                       ░ └───┘   └───┘└╥┘\n",
       "c_0: ══════════════════════════════════════════════════════════════════╩═\n",
       "                                                                         </pre>"
      ],
      "text/plain": [
       "              ┌─────────────────────────────┐          ░                 \n",
       "q_0: ─────────┤ initialize(0.70711,0.70711) ├──────────░───────X─────────\n",
       "     ┌────────┴─────────────────────────────┴────────┐ ░       │         \n",
       "q_1: ┤ initialize(0.54772+-0.36515j,0.7303+0.18257j) ├─░───────X─────────\n",
       "     └───────────────────────────────────────────────┘ ░ ┌───┐ │ ┌───┐┌─┐\n",
       "q_2: ──────────────────────────────────────────────────░─┤ H ├─■─┤ H ├┤M├\n",
       "                                                       ░ └───┘   └───┘└╥┘\n",
       "c_0: ══════════════════════════════════════════════════════════════════╩═\n",
       "                                                                         "
      ]
     },
     "execution_count": 80,
     "metadata": {},
     "output_type": "execute_result"
    }
   ],
   "source": [
    "estado3_q0 = [v_mas[0][0],v_mas[1][0]]\n",
    "estado3_q1 = [ev_norm_3[0][0],ev_norm_3[1][0]]\n",
    "\n",
    "estado_variable_3 = QuantumCircuit(3,1)\n",
    "estado_variable_3.initialize(estado3_q0,0)\n",
    "estado_variable_3.initialize(estado3_q1,1)\n",
    "estado_variable_3.barrier()\n",
    "estado_variable_3.h(2)\n",
    "estado_variable_3.cswap(2,1,0)\n",
    "estado_variable_3.h(2)\n",
    "estado_variable_3.measure(2,0)\n",
    "\n",
    "estado_variable_3.draw('text')"
   ]
  },
  {
   "cell_type": "code",
   "execution_count": 71,
   "metadata": {},
   "outputs": [
    {
     "data": {
      "image/png": "[encoded data removed]",
      "text/plain": [
       "<Figure size 504x360 with 1 Axes>"
      ]
     },
     "execution_count": 71,
     "metadata": {},
     "output_type": "execute_result"
    }
   ],
   "source": [
    "conteos3 = execute(estado_variable_3, backend = simulador,shots=1000).result().get_counts()\n",
    "plot_histogram(conteos3)"
   ]
  },
  {
   "cell_type": "markdown",
   "metadata": {},
   "source": [
    "- Fidelidad = 0.9"
   ]
  },
  {
   "cell_type": "code",
   "execution_count": 72,
   "metadata": {},
   "outputs": [],
   "source": [
    "estado_variable_9 = np.array([[3-1j],[4+1j]])\n",
    "norma_9 = np.linalg.norm(estado_variable_9)\n",
    "ev_norm_9 = 1/norma_9 *estado_variable_9"
   ]
  },
  {
   "cell_type": "code",
   "execution_count": 73,
   "metadata": {},
   "outputs": [
    {
     "data": {
      "text/plain": [
       "0.9074074074074072"
      ]
     },
     "execution_count": 73,
     "metadata": {},
     "output_type": "execute_result"
    }
   ],
   "source": [
    "fidelidad(v_mas,ev_norm_9)"
   ]
  },
  {
   "cell_type": "code",
   "execution_count": 74,
   "metadata": {},
   "outputs": [
    {
     "data": {
      "text/html": [
       "<pre style=\"word-wrap: normal;white-space: pre;background: #fff0;line-height: 1.1;font-family: &quot;Courier New&quot;,Courier,monospace\">              ┌─────────────────────────────┐          ░                 \n",
       "q_0: ─────────┤ initialize(0.70711,0.70711) ├──────────░───────X─────────\n",
       "     ┌────────┴─────────────────────────────┴────────┐ ░       │         \n",
       "q_1: ┤ initialize(0.57735+-0.19245j,0.7698+0.19245j) ├─░───────X─────────\n",
       "     └───────────────────────────────────────────────┘ ░ ┌───┐ │ ┌───┐┌─┐\n",
       "q_2: ──────────────────────────────────────────────────░─┤ H ├─■─┤ H ├┤M├\n",
       "                                                       ░ └───┘   └───┘└╥┘\n",
       "c_0: ══════════════════════════════════════════════════════════════════╩═\n",
       "                                                                         </pre>"
      ],
      "text/plain": [
       "              ┌─────────────────────────────┐          ░                 \n",
       "q_0: ─────────┤ initialize(0.70711,0.70711) ├──────────░───────X─────────\n",
       "     ┌────────┴─────────────────────────────┴────────┐ ░       │         \n",
       "q_1: ┤ initialize(0.57735+-0.19245j,0.7698+0.19245j) ├─░───────X─────────\n",
       "     └───────────────────────────────────────────────┘ ░ ┌───┐ │ ┌───┐┌─┐\n",
       "q_2: ──────────────────────────────────────────────────░─┤ H ├─■─┤ H ├┤M├\n",
       "                                                       ░ └───┘   └───┘└╥┘\n",
       "c_0: ══════════════════════════════════════════════════════════════════╩═\n",
       "                                                                         "
      ]
     },
     "execution_count": 74,
     "metadata": {},
     "output_type": "execute_result"
    }
   ],
   "source": [
    "estado9_q0 = [v_mas[0][0],v_mas[1][0]]\n",
    "estado9_q1= [ev_norm_9[0][0],ev_norm_9[1][0]]\n",
    "\n",
    "estado_variable_9 = QuantumCircuit(3,1)\n",
    "estado_variable_9.initialize(estado9_q0,0)\n",
    "estado_variable_9.initialize(estado9_q1,1)\n",
    "estado_variable_9.barrier()\n",
    "estado_variable_9.h(2)\n",
    "estado_variable_9.cswap(2,1,0)\n",
    "estado_variable_9.h(2)\n",
    "estado_variable_9.measure(2,0)\n",
    "\n",
    "estado_variable_9.draw('text')"
   ]
  },
  {
   "cell_type": "code",
   "execution_count": 75,
   "metadata": {},
   "outputs": [
    {
     "data": {
      "image/png": "[encoded data removed]",
      "text/plain": [
       "<Figure size 504x360 with 1 Axes>"
      ]
     },
     "execution_count": 75,
     "metadata": {},
     "output_type": "execute_result"
    }
   ],
   "source": [
    "conteos9 = execute(estado_variable_9, backend = simulador,shots=1000).result().get_counts()\n",
    "plot_histogram(conteos9)"
   ]
  },
  {
   "cell_type": "markdown",
   "metadata": {},
   "source": [
    "- Fidelidad = 1"
   ]
  },
  {
   "cell_type": "code",
   "execution_count": 76,
   "metadata": {},
   "outputs": [
    {
     "data": {
      "text/plain": [
       "0.9999999999999996"
      ]
     },
     "execution_count": 76,
     "metadata": {},
     "output_type": "execute_result"
    }
   ],
   "source": [
    "fidelidad(v_mas,v_mas)"
   ]
  },
  {
   "cell_type": "code",
   "execution_count": 77,
   "metadata": {},
   "outputs": [
    {
     "data": {
      "text/html": [
       "<pre style=\"word-wrap: normal;white-space: pre;background: #fff0;line-height: 1.1;font-family: &quot;Courier New&quot;,Courier,monospace\">     ┌─────────────────────────────┐ ░                 \n",
       "q_0: ┤ initialize(0.70711,0.70711) ├─░───────X─────────\n",
       "     ├─────────────────────────────┤ ░       │         \n",
       "q_1: ┤ initialize(0.70711,0.70711) ├─░───────X─────────\n",
       "     └─────────────────────────────┘ ░ ┌───┐ │ ┌───┐┌─┐\n",
       "q_2: ────────────────────────────────░─┤ H ├─■─┤ H ├┤M├\n",
       "                                     ░ └───┘   └───┘└╥┘\n",
       "c_0: ════════════════════════════════════════════════╩═\n",
       "                                                       </pre>"
      ],
      "text/plain": [
       "     ┌─────────────────────────────┐ ░                 \n",
       "q_0: ┤ initialize(0.70711,0.70711) ├─░───────X─────────\n",
       "     ├─────────────────────────────┤ ░       │         \n",
       "q_1: ┤ initialize(0.70711,0.70711) ├─░───────X─────────\n",
       "     └─────────────────────────────┘ ░ ┌───┐ │ ┌───┐┌─┐\n",
       "q_2: ────────────────────────────────░─┤ H ├─■─┤ H ├┤M├\n",
       "                                     ░ └───┘   └───┘└╥┘\n",
       "c_0: ════════════════════════════════════════════════╩═\n",
       "                                                       "
      ]
     },
     "execution_count": 77,
     "metadata": {},
     "output_type": "execute_result"
    }
   ],
   "source": [
    "estado10_q0 = [v_mas[0][0],v_mas[1][0]]\n",
    "estado10_q1= [v_mas[0][0],v_mas[1][0]]\n",
    "\n",
    "estado_variable_10 = QuantumCircuit(3,1)\n",
    "estado_variable_10.initialize(estado10_q0,0)\n",
    "estado_variable_10.initialize(estado10_q1,1)\n",
    "estado_variable_10.barrier()\n",
    "estado_variable_10.h(2)\n",
    "estado_variable_10.cswap(2,1,0)\n",
    "estado_variable_10.h(2)\n",
    "estado_variable_10.measure(2,0)\n",
    "\n",
    "estado_variable_10.draw('text')"
   ]
  },
  {
   "cell_type": "code",
   "execution_count": 78,
   "metadata": {},
   "outputs": [
    {
     "data": {
      "image/png": "[encoded data removed]",
      "text/plain": [
       "<Figure size 504x360 with 1 Axes>"
      ]
     },
     "execution_count": 78,
     "metadata": {},
     "output_type": "execute_result"
    }
   ],
   "source": [
    "conteos10 = execute(estado_variable_10, backend = simulador,shots=1000).result().get_counts()\n",
    "plot_histogram(conteos10)"
   ]
  },
  {
   "cell_type": "markdown",
   "metadata": {},
   "source": [
    "- Gráfica de fidelidad vs el resultado del estado cero $|0\\rangle$"
   ]
  },
  {
   "attachments": {},
   "cell_type": "markdown",
   "metadata": {},
   "source": [
    "![./CNYT/EGRÁFICA.png](./CNYT/GRÁFICA.png)"
   ]
  },
  {
   "cell_type": "markdown",
   "metadata": {},
   "source": [
    "**Conlusión:**\n",
    "- La fidelidad y el resultado del estado cero en cada caso son directamente proporcionales, cada vez que aumenta la fidelidad, el numero de resultado del estado cero, aumenta. \n",
    "\n",
    "- Cuando la fidelidad es aproximadamente 1, los mil resultados fueron al estado cero, **lo cuál es lo esperado.** "
   ]
  }
 ],
 "metadata": {
  "kernelspec": {
   "display_name": "Python 3",
   "language": "python",
   "name": "python3"
  },
  "language_info": {
   "codemirror_mode": {
    "name": "ipython",
    "version": 3
   },
   "file_extension": ".py",
   "mimetype": "text/x-python",
   "name": "python",
   "nbconvert_exporter": "python",
   "pygments_lexer": "ipython3",
   "version": "3.8.3"
  }
 },
 "nbformat": 4,
 "nbformat_minor": 4
}
